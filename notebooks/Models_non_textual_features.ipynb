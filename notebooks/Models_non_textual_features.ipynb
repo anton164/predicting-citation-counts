{
 "cells": [
  {
   "cell_type": "code",
   "execution_count": 1,
   "metadata": {},
   "outputs": [],
   "source": [
    "import pandas as pd\n",
    "import numpy as np\n",
    "df = pd.read_csv(\"../saved/final_dataset_cs_papers_last_20.csv\")"
   ]
  },
  {
   "cell_type": "code",
   "execution_count": 2,
   "metadata": {},
   "outputs": [
    {
     "data": {
      "text/plain": [
       "['PaperId',\n",
       " 'Abstract',\n",
       " 'CitationCount',\n",
       " 'CitationCountPerYear',\n",
       " 'JournalName',\n",
       " 'Publisher',\n",
       " 'Rank',\n",
       " 'Title',\n",
       " 'YearsSincePublication',\n",
       " 'AuthorProminence',\n",
       " 'MagBin',\n",
       " 'CitationBin',\n",
       " 'AuthorRank',\n",
       " 'JournalNameRank',\n",
       " 'PublisherRank',\n",
       " 'PageCount',\n",
       " 'Processed_Abstract',\n",
       " 'JournalNameRankNormalized',\n",
       " 'PublisherRankNormalized']"
      ]
     },
     "execution_count": 2,
     "metadata": {},
     "output_type": "execute_result"
    }
   ],
   "source": [
    "df_cs = df.loc[df[\"FieldOfStudy_0\"] == \"computer science\"]\n",
    "df_cs.drop(labels=[\n",
    "'Author_1',\n",
    "'Author_10',\n",
    "'Author_11',\n",
    "'Author_2',\n",
    "'Author_3',\n",
    "'Author_4',\n",
    "'Author_5',\n",
    "'Author_6',\n",
    "'Author_7',\n",
    "'Author_8',\n",
    "'Author_9',\n",
    "'FieldOfStudy_0',\n",
    "'FieldOfStudy_1',\n",
    "'FieldOfStudy_2',\n",
    "'FieldOfStudy_3',\n",
    "'FieldOfStudy_4',\n",
    "'FieldOfStudy_5',\n",
    "'FirstPage',\n",
    "'LastPage',\n",
    "'PublishedDate'\n",
    "], inplace=True, axis=1)\n",
    "df_cs.columns.tolist()"
   ]
  },
  {
   "cell_type": "code",
   "execution_count": 3,
   "metadata": {},
   "outputs": [
    {
     "data": {
      "text/plain": [
       "<AxesSubplot:>"
      ]
     },
     "execution_count": 3,
     "metadata": {},
     "output_type": "execute_result"
    },
    {
     "data": {
      "image/png": "[encoded data removed]",
      "text/plain": [
       "<Figure size 432x288 with 1 Axes>"
      ]
     },
     "metadata": {
      "needs_background": "light"
     },
     "output_type": "display_data"
    }
   ],
   "source": [
    "df_cs[\"PageCount\"].hist(bins=50)"
   ]
  },
  {
   "cell_type": "code",
   "execution_count": 4,
   "metadata": {},
   "outputs": [
    {
     "data": {
      "text/plain": [
       "99.0"
      ]
     },
     "execution_count": 4,
     "metadata": {},
     "output_type": "execute_result"
    }
   ],
   "source": [
    "df_cs[\"PageCount\"].max()"
   ]
  },
  {
   "cell_type": "code",
   "execution_count": 5,
   "metadata": {},
   "outputs": [
    {
     "data": {
      "text/plain": [
       "<AxesSubplot:>"
      ]
     },
     "execution_count": 5,
     "metadata": {},
     "output_type": "execute_result"
    },
    {
     "data": {
      "image/png": "[encoded data removed]",
      "text/plain": [
       "<Figure size 432x288 with 1 Axes>"
      ]
     },
     "metadata": {
      "needs_background": "light"
     },
     "output_type": "display_data"
    }
   ],
   "source": [
    "df_cs[\"JournalNameRank\"].hist(bins=15)"
   ]
  },
  {
   "cell_type": "code",
   "execution_count": 6,
   "metadata": {},
   "outputs": [
    {
     "data": {
      "text/plain": [
       "<AxesSubplot:>"
      ]
     },
     "execution_count": 6,
     "metadata": {},
     "output_type": "execute_result"
    },
    {
     "data": {
      "image/png": "[encoded data removed]",
      "text/plain": [
       "<Figure size 432x288 with 1 Axes>"
      ]
     },
     "metadata": {
      "needs_background": "light"
     },
     "output_type": "display_data"
    }
   ],
   "source": [
    "df_cs[\"PublisherRank\"].hist(bins=15)"
   ]
  },
  {
   "cell_type": "code",
   "execution_count": 7,
   "metadata": {},
   "outputs": [],
   "source": [
    "by_journal = df_cs.groupby([\"JournalName\"]).sum().sort_values([\"CitationCount\"], ascending=False)"
   ]
  },
  {
   "cell_type": "code",
   "execution_count": 8,
   "metadata": {},
   "outputs": [
    {
     "data": {
      "text/html": [
       "<div>\n",
       "<style scoped>\n",
       "    .dataframe tbody tr th:only-of-type {\n",
       "        vertical-align: middle;\n",
       "    }\n",
       "\n",
       "    .dataframe tbody tr th {\n",
       "        vertical-align: top;\n",
       "    }\n",
       "\n",
       "    .dataframe thead th {\n",
       "        text-align: right;\n",
       "    }\n",
       "</style>\n",
       "<table border=\"1\" class=\"dataframe\">\n",
       "  <thead>\n",
       "    <tr style=\"text-align: right;\">\n",
       "      <th></th>\n",
       "      <th>PaperId</th>\n",
       "      <th>CitationCount</th>\n",
       "      <th>CitationCountPerYear</th>\n",
       "      <th>Rank</th>\n",
       "      <th>YearsSincePublication</th>\n",
       "      <th>AuthorProminence</th>\n",
       "      <th>AuthorRank</th>\n",
       "      <th>JournalNameRank</th>\n",
       "      <th>PublisherRank</th>\n",
       "      <th>PageCount</th>\n",
       "      <th>JournalNameRankNormalized</th>\n",
       "      <th>PublisherRankNormalized</th>\n",
       "    </tr>\n",
       "    <tr>\n",
       "      <th>JournalName</th>\n",
       "      <th></th>\n",
       "      <th></th>\n",
       "      <th></th>\n",
       "      <th></th>\n",
       "      <th></th>\n",
       "      <th></th>\n",
       "      <th></th>\n",
       "      <th></th>\n",
       "      <th></th>\n",
       "      <th></th>\n",
       "      <th></th>\n",
       "      <th></th>\n",
       "    </tr>\n",
       "  </thead>\n",
       "  <tbody>\n",
       "    <tr>\n",
       "      <th>Bioinformatics</th>\n",
       "      <td>1903773256051</td>\n",
       "      <td>124531</td>\n",
       "      <td>9948.775271</td>\n",
       "      <td>17874424</td>\n",
       "      <td>9615.345205</td>\n",
       "      <td>363</td>\n",
       "      <td>223120.0</td>\n",
       "      <td>893200.0</td>\n",
       "      <td>545498.0</td>\n",
       "      <td>3808.0</td>\n",
       "      <td>1199440.0</td>\n",
       "      <td>506487.0</td>\n",
       "    </tr>\n",
       "    <tr>\n",
       "      <th>IEEE Transactions on Pattern Analysis and Machine Intelligence</th>\n",
       "      <td>437599025624</td>\n",
       "      <td>50891</td>\n",
       "      <td>4494.111604</td>\n",
       "      <td>3892600</td>\n",
       "      <td>2130.879452</td>\n",
       "      <td>162</td>\n",
       "      <td>282798.0</td>\n",
       "      <td>204828.0</td>\n",
       "      <td>126017.0</td>\n",
       "      <td>2281.0</td>\n",
       "      <td>284012.0</td>\n",
       "      <td>110907.0</td>\n",
       "    </tr>\n",
       "    <tr>\n",
       "      <th>Expert Systems With Applications</th>\n",
       "      <td>1591040399157</td>\n",
       "      <td>35199</td>\n",
       "      <td>3534.149058</td>\n",
       "      <td>15751395</td>\n",
       "      <td>7079.994521</td>\n",
       "      <td>291</td>\n",
       "      <td>104024.0</td>\n",
       "      <td>765466.0</td>\n",
       "      <td>459831.0</td>\n",
       "      <td>7227.0</td>\n",
       "      <td>841399.0</td>\n",
       "      <td>336030.0</td>\n",
       "    </tr>\n",
       "    <tr>\n",
       "      <th>IEEE Journal on Selected Areas in Communications</th>\n",
       "      <td>666790464138</td>\n",
       "      <td>30219</td>\n",
       "      <td>2455.026221</td>\n",
       "      <td>6143838</td>\n",
       "      <td>3775.010959</td>\n",
       "      <td>254</td>\n",
       "      <td>323371.0</td>\n",
       "      <td>314110.0</td>\n",
       "      <td>193987.0</td>\n",
       "      <td>3355.0</td>\n",
       "      <td>408032.0</td>\n",
       "      <td>149718.0</td>\n",
       "    </tr>\n",
       "    <tr>\n",
       "      <th>IEEE Transactions on Information Theory</th>\n",
       "      <td>368216000069</td>\n",
       "      <td>30092</td>\n",
       "      <td>2213.845127</td>\n",
       "      <td>3443921</td>\n",
       "      <td>1866.830137</td>\n",
       "      <td>136</td>\n",
       "      <td>193821.0</td>\n",
       "      <td>175566.0</td>\n",
       "      <td>107430.0</td>\n",
       "      <td>2485.0</td>\n",
       "      <td>240120.0</td>\n",
       "      <td>83808.0</td>\n",
       "    </tr>\n",
       "  </tbody>\n",
       "</table>\n",
       "</div>"
      ],
      "text/plain": [
       "                                                          PaperId  \\\n",
       "JournalName                                                         \n",
       "Bioinformatics                                      1903773256051   \n",
       "IEEE Transactions on Pattern Analysis and Machi...   437599025624   \n",
       "Expert Systems With Applications                    1591040399157   \n",
       "IEEE Journal on Selected Areas in Communications     666790464138   \n",
       "IEEE Transactions on Information Theory              368216000069   \n",
       "\n",
       "                                                    CitationCount  \\\n",
       "JournalName                                                         \n",
       "Bioinformatics                                             124531   \n",
       "IEEE Transactions on Pattern Analysis and Machi...          50891   \n",
       "Expert Systems With Applications                            35199   \n",
       "IEEE Journal on Selected Areas in Communications            30219   \n",
       "IEEE Transactions on Information Theory                     30092   \n",
       "\n",
       "                                                    CitationCountPerYear  \\\n",
       "JournalName                                                                \n",
       "Bioinformatics                                               9948.775271   \n",
       "IEEE Transactions on Pattern Analysis and Machi...           4494.111604   \n",
       "Expert Systems With Applications                             3534.149058   \n",
       "IEEE Journal on Selected Areas in Communications             2455.026221   \n",
       "IEEE Transactions on Information Theory                      2213.845127   \n",
       "\n",
       "                                                        Rank  \\\n",
       "JournalName                                                    \n",
       "Bioinformatics                                      17874424   \n",
       "IEEE Transactions on Pattern Analysis and Machi...   3892600   \n",
       "Expert Systems With Applications                    15751395   \n",
       "IEEE Journal on Selected Areas in Communications     6143838   \n",
       "IEEE Transactions on Information Theory              3443921   \n",
       "\n",
       "                                                    YearsSincePublication  \\\n",
       "JournalName                                                                 \n",
       "Bioinformatics                                                9615.345205   \n",
       "IEEE Transactions on Pattern Analysis and Machi...            2130.879452   \n",
       "Expert Systems With Applications                              7079.994521   \n",
       "IEEE Journal on Selected Areas in Communications              3775.010959   \n",
       "IEEE Transactions on Information Theory                       1866.830137   \n",
       "\n",
       "                                                    AuthorProminence  \\\n",
       "JournalName                                                            \n",
       "Bioinformatics                                                   363   \n",
       "IEEE Transactions on Pattern Analysis and Machi...               162   \n",
       "Expert Systems With Applications                                 291   \n",
       "IEEE Journal on Selected Areas in Communications                 254   \n",
       "IEEE Transactions on Information Theory                          136   \n",
       "\n",
       "                                                    AuthorRank  \\\n",
       "JournalName                                                      \n",
       "Bioinformatics                                        223120.0   \n",
       "IEEE Transactions on Pattern Analysis and Machi...    282798.0   \n",
       "Expert Systems With Applications                      104024.0   \n",
       "IEEE Journal on Selected Areas in Communications      323371.0   \n",
       "IEEE Transactions on Information Theory               193821.0   \n",
       "\n",
       "                                                    JournalNameRank  \\\n",
       "JournalName                                                           \n",
       "Bioinformatics                                             893200.0   \n",
       "IEEE Transactions on Pattern Analysis and Machi...         204828.0   \n",
       "Expert Systems With Applications                           765466.0   \n",
       "IEEE Journal on Selected Areas in Communications           314110.0   \n",
       "IEEE Transactions on Information Theory                    175566.0   \n",
       "\n",
       "                                                    PublisherRank  PageCount  \\\n",
       "JournalName                                                                    \n",
       "Bioinformatics                                           545498.0     3808.0   \n",
       "IEEE Transactions on Pattern Analysis and Machi...       126017.0     2281.0   \n",
       "Expert Systems With Applications                         459831.0     7227.0   \n",
       "IEEE Journal on Selected Areas in Communications         193987.0     3355.0   \n",
       "IEEE Transactions on Information Theory                  107430.0     2485.0   \n",
       "\n",
       "                                                    JournalNameRankNormalized  \\\n",
       "JournalName                                                                     \n",
       "Bioinformatics                                                      1199440.0   \n",
       "IEEE Transactions on Pattern Analysis and Machi...                   284012.0   \n",
       "Expert Systems With Applications                                     841399.0   \n",
       "IEEE Journal on Selected Areas in Communications                     408032.0   \n",
       "IEEE Transactions on Information Theory                              240120.0   \n",
       "\n",
       "                                                    PublisherRankNormalized  \n",
       "JournalName                                                                  \n",
       "Bioinformatics                                                     506487.0  \n",
       "IEEE Transactions on Pattern Analysis and Machi...                 110907.0  \n",
       "Expert Systems With Applications                                   336030.0  \n",
       "IEEE Journal on Selected Areas in Communications                   149718.0  \n",
       "IEEE Transactions on Information Theory                             83808.0  "
      ]
     },
     "execution_count": 8,
     "metadata": {},
     "output_type": "execute_result"
    }
   ],
   "source": [
    "by_journal.head()"
   ]
  },
  {
   "cell_type": "code",
   "execution_count": 9,
   "metadata": {},
   "outputs": [],
   "source": [
    "occurrances = []\n",
    "for name in by_journal.index:\n",
    "    occurrances.append(df_cs[df_cs[\"JournalName\"] == name].shape[0])\n",
    "    \n",
    "by_journal[\"NumberPapers\"] = occurrances"
   ]
  },
  {
   "cell_type": "code",
   "execution_count": 10,
   "metadata": {},
   "outputs": [
    {
     "data": {
      "text/plain": [
       "(61019,)"
      ]
     },
     "execution_count": 10,
     "metadata": {},
     "output_type": "execute_result"
    }
   ],
   "source": [
    "cc = df_cs[\"CitationCountPerYear\"].values\n",
    "cc.shape"
   ]
  },
  {
   "cell_type": "code",
   "execution_count": 11,
   "metadata": {},
   "outputs": [
    {
     "name": "stdout",
     "output_type": "stream",
     "text": [
      "Max number of citations: 1143.3305548940225\n",
      "Median number of citations: 0.6211003970504821\n",
      "Mean number of citations: 2.8393615494580478\n",
      "Std number of citations: 12.939019144245327\n",
      "Number of papers with 0 citations: 10686\n",
      "Number papers with over 50 citations: 335\n",
      "Number papers with over 100 citations: 123\n",
      "Number papers with over 1k citations: 1\n",
      "Number papers with over 10k citations: 0\n"
     ]
    }
   ],
   "source": [
    "print(f\"Max number of citations: {np.max(cc)}\")\n",
    "print(f\"Median number of citations: {np.median(cc)}\")\n",
    "print(f\"Mean number of citations: {np.mean(cc)}\")\n",
    "print(f\"Std number of citations: {np.std(cc)}\")\n",
    "\n",
    "print(f\"Number of papers with 0 citations: {np.sum((cc == 0))}\")\n",
    "print(f\"Number papers with over 50 citations: {np.sum(cc > 50)}\")\n",
    "print(f\"Number papers with over 100 citations: {np.sum(cc > 100)}\")\n",
    "print(f\"Number papers with over 1k citations: {np.sum(cc > 1000)}\")\n",
    "print(f\"Number papers with over 10k citations: {np.sum(cc > 10000)}\")\n"
   ]
  },
  {
   "cell_type": "code",
   "execution_count": 12,
   "metadata": {},
   "outputs": [
    {
     "name": "stderr",
     "output_type": "stream",
     "text": [
      "/Users/janhenrikbernhard/opt/anaconda3/envs/aml/lib/python3.7/site-packages/sklearn/base.py:213: FutureWarning: From version 0.24, get_params will raise an AttributeError if a parameter cannot be retrieved as an instance attribute. Previously it would return None.\n",
      "  FutureWarning)\n"
     ]
    },
    {
     "data": {
      "text/plain": [
       "KElbowVisualizer(ax=<AxesSubplot:>, k=None, model=None)"
      ]
     },
     "execution_count": 12,
     "metadata": {},
     "output_type": "execute_result"
    },
    {
     "data": {
      "image/png": "[encoded data removed]",
      "text/plain": [
       "<Figure size 576x396 with 2 Axes>"
      ]
     },
     "metadata": {},
     "output_type": "display_data"
    }
   ],
   "source": [
    "from sklearn.cluster import KMeans\n",
    "from yellowbrick.cluster import KElbowVisualizer\n",
    "model = KMeans()\n",
    "visualizer = KElbowVisualizer(model, k=(2,12))\n",
    "visualizer.fit(cc.reshape(-1, 1))"
   ]
  },
  {
   "cell_type": "code",
   "execution_count": 13,
   "metadata": {},
   "outputs": [
    {
     "data": {
      "text/plain": [
       "array([[ 0.14999922],\n",
       "       [93.09541725],\n",
       "       [ 4.85803337],\n",
       "       [ 1.06402323],\n",
       "       [16.25123553]])"
      ]
     },
     "execution_count": 13,
     "metadata": {},
     "output_type": "execute_result"
    }
   ],
   "source": [
    "from sklearn.mixture import GaussianMixture as GMM\n",
    "gmm = GMM(n_components=5, random_state=0)\n",
    "gmm.fit(cc.reshape(-1,1))\n",
    "gmm.means_"
   ]
  },
  {
   "cell_type": "code",
   "execution_count": 16,
   "metadata": {},
   "outputs": [
    {
     "data": {
      "text/plain": [
       "array([[[2.59045965e-02]],\n",
       "\n",
       "       [[1.05821505e+04]],\n",
       "\n",
       "       [[7.02078340e+00]],\n",
       "\n",
       "       [[3.69817546e-01]],\n",
       "\n",
       "       [[7.24333979e+01]]])"
      ]
     },
     "execution_count": 16,
     "metadata": {},
     "output_type": "execute_result"
    }
   ],
   "source": [
    "gmm.covariances_"
   ]
  },
  {
   "cell_type": "code",
   "execution_count": 17,
   "metadata": {},
   "outputs": [
    {
     "name": "stdout",
     "output_type": "stream",
     "text": [
      "(61019, 19)\n"
     ]
    },
    {
     "data": {
      "text/html": [
       "<div>\n",
       "<style scoped>\n",
       "    .dataframe tbody tr th:only-of-type {\n",
       "        vertical-align: middle;\n",
       "    }\n",
       "\n",
       "    .dataframe tbody tr th {\n",
       "        vertical-align: top;\n",
       "    }\n",
       "\n",
       "    .dataframe thead th {\n",
       "        text-align: right;\n",
       "    }\n",
       "</style>\n",
       "<table border=\"1\" class=\"dataframe\">\n",
       "  <thead>\n",
       "    <tr style=\"text-align: right;\">\n",
       "      <th></th>\n",
       "      <th>PaperId</th>\n",
       "      <th>Abstract</th>\n",
       "      <th>CitationCount</th>\n",
       "      <th>CitationCountPerYear</th>\n",
       "      <th>JournalName</th>\n",
       "      <th>Publisher</th>\n",
       "      <th>Rank</th>\n",
       "      <th>Title</th>\n",
       "      <th>YearsSincePublication</th>\n",
       "      <th>AuthorProminence</th>\n",
       "      <th>MagBin</th>\n",
       "      <th>CitationBin</th>\n",
       "      <th>AuthorRank</th>\n",
       "      <th>JournalNameRank</th>\n",
       "      <th>PublisherRank</th>\n",
       "      <th>PageCount</th>\n",
       "      <th>Processed_Abstract</th>\n",
       "      <th>JournalNameRankNormalized</th>\n",
       "      <th>PublisherRankNormalized</th>\n",
       "    </tr>\n",
       "  </thead>\n",
       "  <tbody>\n",
       "    <tr>\n",
       "      <th>0</th>\n",
       "      <td>2013266033</td>\n",
       "      <td>Two important automation characteristics are c...</td>\n",
       "      <td>2</td>\n",
       "      <td>0.352827</td>\n",
       "      <td>International Journal of Human-computer Studie...</td>\n",
       "      <td>Academic Press, Inc.</td>\n",
       "      <td>22262</td>\n",
       "      <td>Crossing the boundaries of automation-Function...</td>\n",
       "      <td>5.668493</td>\n",
       "      <td>0</td>\n",
       "      <td>above-average</td>\n",
       "      <td>below-average</td>\n",
       "      <td>1.0</td>\n",
       "      <td>980.0</td>\n",
       "      <td>596.0</td>\n",
       "      <td>9.0</td>\n",
       "      <td>important automation characteristic crucial co...</td>\n",
       "      <td>1319.0</td>\n",
       "      <td>479.0</td>\n",
       "    </tr>\n",
       "    <tr>\n",
       "      <th>1</th>\n",
       "      <td>2147483915</td>\n",
       "      <td>Many  Internet of Things  (IoT) technologies h...</td>\n",
       "      <td>26</td>\n",
       "      <td>5.200000</td>\n",
       "      <td>IEEE Internet of Things Journal</td>\n",
       "      <td>IEEE</td>\n",
       "      <td>18697</td>\n",
       "      <td>EasyConnect: A Management System for IoT Devic...</td>\n",
       "      <td>5.000000</td>\n",
       "      <td>1</td>\n",
       "      <td>low</td>\n",
       "      <td>high</td>\n",
       "      <td>1372.0</td>\n",
       "      <td>502.0</td>\n",
       "      <td>627.0</td>\n",
       "      <td>10.0</td>\n",
       "      <td>many internet things iot technology use applic...</td>\n",
       "      <td>1243.0</td>\n",
       "      <td>478.0</td>\n",
       "    </tr>\n",
       "  </tbody>\n",
       "</table>\n",
       "</div>"
      ],
      "text/plain": [
       "      PaperId                                           Abstract  \\\n",
       "0  2013266033  Two important automation characteristics are c...   \n",
       "1  2147483915  Many  Internet of Things  (IoT) technologies h...   \n",
       "\n",
       "   CitationCount  CitationCountPerYear  \\\n",
       "0              2              0.352827   \n",
       "1             26              5.200000   \n",
       "\n",
       "                                         JournalName             Publisher  \\\n",
       "0  International Journal of Human-computer Studie...  Academic Press, Inc.   \n",
       "1                    IEEE Internet of Things Journal                  IEEE   \n",
       "\n",
       "    Rank                                              Title  \\\n",
       "0  22262  Crossing the boundaries of automation-Function...   \n",
       "1  18697  EasyConnect: A Management System for IoT Devic...   \n",
       "\n",
       "   YearsSincePublication  AuthorProminence         MagBin    CitationBin  \\\n",
       "0               5.668493                 0  above-average  below-average   \n",
       "1               5.000000                 1            low           high   \n",
       "\n",
       "   AuthorRank  JournalNameRank  PublisherRank  PageCount  \\\n",
       "0         1.0            980.0          596.0        9.0   \n",
       "1      1372.0            502.0          627.0       10.0   \n",
       "\n",
       "                                  Processed_Abstract  \\\n",
       "0  important automation characteristic crucial co...   \n",
       "1  many internet things iot technology use applic...   \n",
       "\n",
       "   JournalNameRankNormalized  PublisherRankNormalized  \n",
       "0                     1319.0                    479.0  \n",
       "1                     1243.0                    478.0  "
      ]
     },
     "execution_count": 17,
     "metadata": {},
     "output_type": "execute_result"
    }
   ],
   "source": [
    "print(df_cs.shape)\n",
    "df_cs.head(2)"
   ]
  },
  {
   "cell_type": "code",
   "execution_count": 18,
   "metadata": {},
   "outputs": [],
   "source": [
    "import matplotlib.pyplot as plt\n",
    "import seaborn as sns\n",
    "\n",
    "def correlation(df, columns=None, plot=True):\n",
    "    t = df.loc[:, columns] if columns else df\n",
    "    if not plot:\n",
    "        print(t.corr())\n",
    "    else:\n",
    "        fig = plt.figure()\n",
    "        mask = np.triu(t.corr())\n",
    "        sns.heatmap(\n",
    "            t.corr(),\n",
    "            mask=mask,\n",
    "            cbar=False,\n",
    "            square=True,\n",
    "            annot=True,\n",
    "            vmin=-1,\n",
    "            vmax=1,\n",
    "            center=0,\n",
    "            cmap=\"coolwarm_r\",\n",
    "            linecolor=\"black\",\n",
    "        )\n",
    "        plt.show()"
   ]
  },
  {
   "cell_type": "code",
   "execution_count": 19,
   "metadata": {},
   "outputs": [],
   "source": [
    "def custom_binning(x, thresholds=None):\n",
    "    for i, threshold in enumerate(thresholds):\n",
    "        if x <= threshold:\n",
    "            return i"
   ]
  },
  {
   "cell_type": "code",
   "execution_count": 20,
   "metadata": {},
   "outputs": [
    {
     "name": "stdout",
     "output_type": "stream",
     "text": [
      "[array([[0.14999922]]), array([[2.06402323]]), array([[7.85803337]]), array([[25.25123553]]), array([[196.09541725]])]\n"
     ]
    }
   ],
   "source": [
    "threshold = [mu + np.sqrt(var).round() for mu, var in zip(gmm.means_, gmm.covariances_)]\n",
    "threshold.sort()\n",
    "print(threshold)\n",
    "df_cs[\"BinnedCitationsPerYear\"] = pd.Series([custom_binning(x, thresholds=threshold) for x in cc], index=df_cs.index)"
   ]
  },
  {
   "cell_type": "code",
   "execution_count": 22,
   "metadata": {},
   "outputs": [
    {
     "data": {
      "image/png": "[encoded data removed]",
      "text/plain": [
       "<Figure size 576x396 with 1 Axes>"
      ]
     },
     "metadata": {},
     "output_type": "display_data"
    }
   ],
   "source": [
    "correlation(df_cs, columns=[\n",
    "    \"BinnedCitationsPerYear\",\n",
    "    \"JournalNameRankNormalized\",\n",
    "    \"PublisherRankNormalized\",\n",
    "    \"AuthorRank\",\n",
    "    \"AuthorProminence\",\n",
    "    \"PageCount\"\n",
    "])"
   ]
  },
  {
   "cell_type": "code",
   "execution_count": 23,
   "metadata": {},
   "outputs": [
    {
     "name": "stdout",
     "output_type": "stream",
     "text": [
      "[ 0.  1.  2.  3.  4. nan]\n",
      "[15095, 31964, 9139, 3905, 876]\n"
     ]
    },
    {
     "data": {
      "text/plain": [
       "([<matplotlib.axis.XTick at 0x7faba7d5ac90>,\n",
       "  <matplotlib.axis.XTick at 0x7faba7d608d0>,\n",
       "  <matplotlib.axis.XTick at 0x7faba7d604d0>,\n",
       "  <matplotlib.axis.XTick at 0x7faba9367a50>,\n",
       "  <matplotlib.axis.XTick at 0x7faba93721d0>],\n",
       " [Text(0, 0, ''),\n",
       "  Text(0, 0, ''),\n",
       "  Text(0, 0, ''),\n",
       "  Text(0, 0, ''),\n",
       "  Text(0, 0, '')])"
      ]
     },
     "execution_count": 23,
     "metadata": {},
     "output_type": "execute_result"
    },
    {
     "data": {
      "image/png": "[encoded data removed]",
      "text/plain": [
       "<Figure size 576x396 with 1 Axes>"
      ]
     },
     "metadata": {},
     "output_type": "display_data"
    }
   ],
   "source": [
    "classes = df_cs[\"BinnedCitationsPerYear\"].unique()\n",
    "classes.sort()\n",
    "print(classes)\n",
    "classes = classes[:-1]\n",
    "x = [np.sum(df_cs.loc[:, \"BinnedCitationsPerYear\"].values == c) for c in classes]\n",
    "print(x)\n",
    "fig = plt.figure()\n",
    "plt.plot(classes, x)\n",
    "plt.ylabel(\"Instances per Class\")\n",
    "plt.xlabel(\"Class Label\")\n",
    "plt.xticks(classes)"
   ]
  },
  {
   "cell_type": "code",
   "execution_count": 24,
   "metadata": {},
   "outputs": [
    {
     "name": "stdout",
     "output_type": "stream",
     "text": [
      "(60979, 20)\n",
      "[1. 2. 0. 3. 4.]\n"
     ]
    }
   ],
   "source": [
    "df_uniform = df_cs.copy()\n",
    "# df_uniform.drop(df_uniform[df_uniform[\"BinnedCitationsPerYear\"]==1].index, inplace=True)\n",
    "df_uniform.drop(df_uniform[np.isnan(df_uniform[\"BinnedCitationsPerYear\"])].index, inplace=True)\n",
    "print(df_uniform.shape)\n",
    "print(df_uniform[\"BinnedCitationsPerYear\"].unique())"
   ]
  },
  {
   "cell_type": "code",
   "execution_count": 25,
   "metadata": {},
   "outputs": [],
   "source": [
    "df_uniform.loc[df_uniform[\"BinnedCitationsPerYear\"]==1, \"BinnedCitationsPerYear\"] = 0\n",
    "df_uniform.loc[df_uniform[\"BinnedCitationsPerYear\"]==2, \"BinnedCitationsPerYear\"] = 1\n",
    "df_uniform.loc[df_uniform[\"BinnedCitationsPerYear\"]==3, \"BinnedCitationsPerYear\"] = 1\n",
    "df_uniform.loc[df_uniform[\"BinnedCitationsPerYear\"]==4, \"BinnedCitationsPerYear\"] = 1"
   ]
  },
  {
   "cell_type": "code",
   "execution_count": 26,
   "metadata": {},
   "outputs": [
    {
     "data": {
      "text/html": [
       "<div>\n",
       "<style scoped>\n",
       "    .dataframe tbody tr th:only-of-type {\n",
       "        vertical-align: middle;\n",
       "    }\n",
       "\n",
       "    .dataframe tbody tr th {\n",
       "        vertical-align: top;\n",
       "    }\n",
       "\n",
       "    .dataframe thead th {\n",
       "        text-align: right;\n",
       "    }\n",
       "</style>\n",
       "<table border=\"1\" class=\"dataframe\">\n",
       "  <thead>\n",
       "    <tr style=\"text-align: right;\">\n",
       "      <th></th>\n",
       "      <th>PaperId</th>\n",
       "      <th>Abstract</th>\n",
       "      <th>CitationCount</th>\n",
       "      <th>CitationCountPerYear</th>\n",
       "      <th>JournalName</th>\n",
       "      <th>Publisher</th>\n",
       "      <th>Rank</th>\n",
       "      <th>Title</th>\n",
       "      <th>YearsSincePublication</th>\n",
       "      <th>AuthorProminence</th>\n",
       "      <th>MagBin</th>\n",
       "      <th>CitationBin</th>\n",
       "      <th>AuthorRank</th>\n",
       "      <th>JournalNameRank</th>\n",
       "      <th>PublisherRank</th>\n",
       "      <th>PageCount</th>\n",
       "      <th>Processed_Abstract</th>\n",
       "      <th>JournalNameRankNormalized</th>\n",
       "      <th>PublisherRankNormalized</th>\n",
       "      <th>BinnedCitationsPerYear</th>\n",
       "    </tr>\n",
       "  </thead>\n",
       "  <tbody>\n",
       "    <tr>\n",
       "      <th>0</th>\n",
       "      <td>2013266033</td>\n",
       "      <td>Two important automation characteristics are c...</td>\n",
       "      <td>2</td>\n",
       "      <td>0.352827</td>\n",
       "      <td>International Journal of Human-computer Studie...</td>\n",
       "      <td>Academic Press, Inc.</td>\n",
       "      <td>22262</td>\n",
       "      <td>Crossing the boundaries of automation-Function...</td>\n",
       "      <td>5.668493</td>\n",
       "      <td>0</td>\n",
       "      <td>above-average</td>\n",
       "      <td>below-average</td>\n",
       "      <td>1.0</td>\n",
       "      <td>980.0</td>\n",
       "      <td>596.0</td>\n",
       "      <td>9.0</td>\n",
       "      <td>important automation characteristic crucial co...</td>\n",
       "      <td>1319.0</td>\n",
       "      <td>479.0</td>\n",
       "      <td>0.0</td>\n",
       "    </tr>\n",
       "    <tr>\n",
       "      <th>1</th>\n",
       "      <td>2147483915</td>\n",
       "      <td>Many  Internet of Things  (IoT) technologies h...</td>\n",
       "      <td>26</td>\n",
       "      <td>5.200000</td>\n",
       "      <td>IEEE Internet of Things Journal</td>\n",
       "      <td>IEEE</td>\n",
       "      <td>18697</td>\n",
       "      <td>EasyConnect: A Management System for IoT Devic...</td>\n",
       "      <td>5.000000</td>\n",
       "      <td>1</td>\n",
       "      <td>low</td>\n",
       "      <td>high</td>\n",
       "      <td>1372.0</td>\n",
       "      <td>502.0</td>\n",
       "      <td>627.0</td>\n",
       "      <td>10.0</td>\n",
       "      <td>many internet things iot technology use applic...</td>\n",
       "      <td>1243.0</td>\n",
       "      <td>478.0</td>\n",
       "      <td>1.0</td>\n",
       "    </tr>\n",
       "    <tr>\n",
       "      <th>2</th>\n",
       "      <td>2147483970</td>\n",
       "      <td>This paper deals with an application of wavele...</td>\n",
       "      <td>7</td>\n",
       "      <td>0.369166</td>\n",
       "      <td>Lecture Notes in Computer Science</td>\n",
       "      <td>Springer, Berlin, Heidelberg</td>\n",
       "      <td>20917</td>\n",
       "      <td>On the Performance of Informative Wavelets for...</td>\n",
       "      <td>18.961644</td>\n",
       "      <td>1</td>\n",
       "      <td>below-average</td>\n",
       "      <td>above-average</td>\n",
       "      <td>128.0</td>\n",
       "      <td>993.0</td>\n",
       "      <td>624.0</td>\n",
       "      <td>14.0</td>\n",
       "      <td>this paper deal application wavelet feature ex...</td>\n",
       "      <td>888.0</td>\n",
       "      <td>363.0</td>\n",
       "      <td>0.0</td>\n",
       "    </tr>\n",
       "    <tr>\n",
       "      <th>3</th>\n",
       "      <td>2013266260</td>\n",
       "      <td>An object-to-object color mapping method based...</td>\n",
       "      <td>3</td>\n",
       "      <td>0.150578</td>\n",
       "      <td>Journal of Electronic Imaging</td>\n",
       "      <td>International Society for Optics and Photonics</td>\n",
       "      <td>22083</td>\n",
       "      <td>Object-to-object color mapping by image segmen...</td>\n",
       "      <td>19.923288</td>\n",
       "      <td>1</td>\n",
       "      <td>above-average</td>\n",
       "      <td>below-average</td>\n",
       "      <td>127.0</td>\n",
       "      <td>759.0</td>\n",
       "      <td>585.0</td>\n",
       "      <td>10.0</td>\n",
       "      <td>an object object color map method base image s...</td>\n",
       "      <td>624.0</td>\n",
       "      <td>303.0</td>\n",
       "      <td>0.0</td>\n",
       "    </tr>\n",
       "    <tr>\n",
       "      <th>4</th>\n",
       "      <td>2013266632</td>\n",
       "      <td>We present a distributed, integrated medium ac...</td>\n",
       "      <td>13</td>\n",
       "      <td>2.476514</td>\n",
       "      <td>IEEE Transactions on Parallel and Distributed ...</td>\n",
       "      <td>IEEE</td>\n",
       "      <td>20198</td>\n",
       "      <td>Throughput-Optimal Cross-Layer Design for Cogn...</td>\n",
       "      <td>5.249315</td>\n",
       "      <td>1</td>\n",
       "      <td>low</td>\n",
       "      <td>high</td>\n",
       "      <td>1112.0</td>\n",
       "      <td>995.0</td>\n",
       "      <td>627.0</td>\n",
       "      <td>10.0</td>\n",
       "      <td>we present distribute integrate medium access ...</td>\n",
       "      <td>1183.0</td>\n",
       "      <td>478.0</td>\n",
       "      <td>1.0</td>\n",
       "    </tr>\n",
       "  </tbody>\n",
       "</table>\n",
       "</div>"
      ],
      "text/plain": [
       "      PaperId                                           Abstract  \\\n",
       "0  2013266033  Two important automation characteristics are c...   \n",
       "1  2147483915  Many  Internet of Things  (IoT) technologies h...   \n",
       "2  2147483970  This paper deals with an application of wavele...   \n",
       "3  2013266260  An object-to-object color mapping method based...   \n",
       "4  2013266632  We present a distributed, integrated medium ac...   \n",
       "\n",
       "   CitationCount  CitationCountPerYear  \\\n",
       "0              2              0.352827   \n",
       "1             26              5.200000   \n",
       "2              7              0.369166   \n",
       "3              3              0.150578   \n",
       "4             13              2.476514   \n",
       "\n",
       "                                         JournalName  \\\n",
       "0  International Journal of Human-computer Studie...   \n",
       "1                    IEEE Internet of Things Journal   \n",
       "2                  Lecture Notes in Computer Science   \n",
       "3                      Journal of Electronic Imaging   \n",
       "4  IEEE Transactions on Parallel and Distributed ...   \n",
       "\n",
       "                                        Publisher   Rank  \\\n",
       "0                            Academic Press, Inc.  22262   \n",
       "1                                            IEEE  18697   \n",
       "2                    Springer, Berlin, Heidelberg  20917   \n",
       "3  International Society for Optics and Photonics  22083   \n",
       "4                                            IEEE  20198   \n",
       "\n",
       "                                               Title  YearsSincePublication  \\\n",
       "0  Crossing the boundaries of automation-Function...               5.668493   \n",
       "1  EasyConnect: A Management System for IoT Devic...               5.000000   \n",
       "2  On the Performance of Informative Wavelets for...              18.961644   \n",
       "3  Object-to-object color mapping by image segmen...              19.923288   \n",
       "4  Throughput-Optimal Cross-Layer Design for Cogn...               5.249315   \n",
       "\n",
       "   AuthorProminence         MagBin    CitationBin  AuthorRank  \\\n",
       "0                 0  above-average  below-average         1.0   \n",
       "1                 1            low           high      1372.0   \n",
       "2                 1  below-average  above-average       128.0   \n",
       "3                 1  above-average  below-average       127.0   \n",
       "4                 1            low           high      1112.0   \n",
       "\n",
       "   JournalNameRank  PublisherRank  PageCount  \\\n",
       "0            980.0          596.0        9.0   \n",
       "1            502.0          627.0       10.0   \n",
       "2            993.0          624.0       14.0   \n",
       "3            759.0          585.0       10.0   \n",
       "4            995.0          627.0       10.0   \n",
       "\n",
       "                                  Processed_Abstract  \\\n",
       "0  important automation characteristic crucial co...   \n",
       "1  many internet things iot technology use applic...   \n",
       "2  this paper deal application wavelet feature ex...   \n",
       "3  an object object color map method base image s...   \n",
       "4  we present distribute integrate medium access ...   \n",
       "\n",
       "   JournalNameRankNormalized  PublisherRankNormalized  BinnedCitationsPerYear  \n",
       "0                     1319.0                    479.0                     0.0  \n",
       "1                     1243.0                    478.0                     1.0  \n",
       "2                      888.0                    363.0                     0.0  \n",
       "3                      624.0                    303.0                     0.0  \n",
       "4                     1183.0                    478.0                     1.0  "
      ]
     },
     "execution_count": 26,
     "metadata": {},
     "output_type": "execute_result"
    }
   ],
   "source": [
    "df_uniform.head()"
   ]
  },
  {
   "cell_type": "code",
   "execution_count": 27,
   "metadata": {},
   "outputs": [
    {
     "name": "stdout",
     "output_type": "stream",
     "text": [
      "[47059, 13920] [0. 1.] 1\n"
     ]
    },
    {
     "data": {
      "text/plain": [
       "([<matplotlib.axis.XTick at 0x7faba7d49cd0>,\n",
       "  <matplotlib.axis.XTick at 0x7faba909d090>],\n",
       " [Text(0, 0, ''), Text(0, 0, '')])"
      ]
     },
     "execution_count": 27,
     "metadata": {},
     "output_type": "execute_result"
    },
    {
     "data": {
      "image/png": "[encoded data removed]",
      "text/plain": [
       "<Figure size 576x396 with 1 Axes>"
      ]
     },
     "metadata": {},
     "output_type": "display_data"
    }
   ],
   "source": [
    "classes = df_uniform[\"BinnedCitationsPerYear\"].unique()\n",
    "classes.sort()\n",
    "x = [np.sum(df_uniform.loc[:, \"BinnedCitationsPerYear\"].values == c) for c in classes]\n",
    "split_idx = np.argmin(x)\n",
    "print(x, classes, split_idx)\n",
    "fig = plt.figure()\n",
    "plt.bar(classes, x)\n",
    "plt.ylabel(\"Instances per Class\")\n",
    "plt.xlabel(\"Class Label\")\n",
    "plt.xticks(classes)"
   ]
  },
  {
   "cell_type": "code",
   "execution_count": 29,
   "metadata": {},
   "outputs": [
    {
     "data": {
      "image/png": "[encoded data removed]",
      "text/plain": [
       "<Figure size 576x396 with 1 Axes>"
      ]
     },
     "metadata": {},
     "output_type": "display_data"
    }
   ],
   "source": [
    "correlation(df_uniform, columns=[\n",
    "    \"BinnedCitationsPerYear\",\n",
    "    \"JournalNameRankNormalized\",\n",
    "    \"PublisherRankNormalized\",\n",
    "    \"AuthorRank\",\n",
    "    \"AuthorProminence\",\n",
    "    \"PageCount\"\n",
    "])"
   ]
  },
  {
   "cell_type": "code",
   "execution_count": 30,
   "metadata": {},
   "outputs": [
    {
     "name": "stdout",
     "output_type": "stream",
     "text": [
      "(60979, 6) (60979,)\n"
     ]
    }
   ],
   "source": [
    "from sklearn.model_selection import train_test_split\n",
    "from sklearn.neural_network import MLPClassifier\n",
    "features = [\n",
    "    \"PaperId\",\n",
    "    \"JournalNameRankNormalized\",\n",
    "    \"PublisherRankNormalized\",\n",
    "    \"AuthorRank\",\n",
    "    \"AuthorProminence\",\n",
    "    \"PageCount\"\n",
    "    ]\n",
    "X = df_uniform.loc[:, features].values\n",
    "y = df_uniform.loc[:, \"BinnedCitationsPerYear\"].values\n",
    "print(X.shape, y.shape)\n",
    "\n",
    "X_, X_test, y_, y_test = train_test_split(X, y, test_size=0.1, shuffle=True, random_state=0)\n",
    "X_train, X_dev, y_train, y_dev = train_test_split(X_, y_, test_size=0.15, shuffle=True, random_state=0)\n",
    "\n",
    "X_train_mini, y_train_mini = X_train[:1000], y[:1000]"
   ]
  },
  {
   "cell_type": "code",
   "execution_count": 31,
   "metadata": {},
   "outputs": [],
   "source": [
    "def make_uniform(labels, max_cnt):\n",
    "    selection= np.zeros_like(labels, dtype=bool)\n",
    "    labels = labels.astype(int)\n",
    "    for c in range(np.min(labels), np.max(labels) + 1):\n",
    "        cnt = 0\n",
    "        for i, y in enumerate(labels):\n",
    "            if cnt == max_cnt: break\n",
    "            bool_val = y == c\n",
    "            if bool_val:\n",
    "                cnt += int(bool_val)\n",
    "                selection[i] = bool_val\n",
    "    return selection"
   ]
  },
  {
   "cell_type": "code",
   "execution_count": 32,
   "metadata": {
    "tags": []
   },
   "outputs": [
    {
     "name": "stdout",
     "output_type": "stream",
     "text": [
      "              precision    recall  f1-score   support\n",
      "\n",
      "         0.0       1.00      1.00      1.00     10701\n",
      "         1.0       1.00      1.00      1.00     10701\n",
      "\n",
      "    accuracy                           1.00     21402\n",
      "   macro avg       1.00      1.00      1.00     21402\n",
      "weighted avg       1.00      1.00      1.00     21402\n",
      "\n"
     ]
    }
   ],
   "source": [
    "from sklearn.metrics import classification_report\n",
    "split = np.sum(y_train==split_idx)\n",
    "selection = make_uniform(y_train, split)\n",
    "y_train_uniform = y_train[selection]\n",
    "X_train_uniform = X_train[selection]\n",
    "print(classification_report(y_train_uniform, y_train_uniform))\n"
   ]
  },
  {
   "cell_type": "code",
   "execution_count": 33,
   "metadata": {},
   "outputs": [
    {
     "name": "stdout",
     "output_type": "stream",
     "text": [
      "(3764, 6)\n",
      "              precision    recall  f1-score   support\n",
      "\n",
      "         0.0       1.00      1.00      1.00      1882\n",
      "         1.0       1.00      1.00      1.00      1882\n",
      "\n",
      "    accuracy                           1.00      3764\n",
      "   macro avg       1.00      1.00      1.00      3764\n",
      "weighted avg       1.00      1.00      1.00      3764\n",
      "\n"
     ]
    }
   ],
   "source": [
    "split = np.sum(y_dev==split_idx)\n",
    "selection = make_uniform(y_dev, split)\n",
    "y_dev_uniform = y_dev[selection]\n",
    "X_dev_uniform = X_dev[selection]\n",
    "print(X_dev_uniform.shape)\n",
    "print(classification_report(y_dev_uniform, y_dev_uniform))"
   ]
  },
  {
   "cell_type": "code",
   "execution_count": 48,
   "metadata": {},
   "outputs": [
    {
     "name": "stdout",
     "output_type": "stream",
     "text": [
      "0.7446967573124007\n",
      "0.7345908607863975\n"
     ]
    }
   ],
   "source": [
    "from sklearn.preprocessing import StandardScaler\n",
    "from sklearn.pipeline import Pipeline\n",
    "\n",
    "nn = Pipeline(steps=[\n",
    "    ('ss', StandardScaler()),\n",
    "    ('nn', MLPClassifier(\n",
    "        hidden_layer_sizes=(8, 16, 32, 16, 8),\n",
    "        max_iter=500,\n",
    "#         early_stopping=True,\n",
    "        learning_rate=\"adaptive\"\n",
    "    \n",
    "    ))\n",
    "])\n",
    "nn.fit(X_train_uniform[:, 1:], y_train_uniform)\n",
    "print(nn.score(X_train_uniform[:, 1:], y_train_uniform))\n",
    "print(nn.score(X_dev_uniform[:, 1:], y_dev_uniform))\n"
   ]
  },
  {
   "cell_type": "code",
   "execution_count": 49,
   "metadata": {},
   "outputs": [
    {
     "data": {
      "text/plain": [
       "[<matplotlib.lines.Line2D at 0x7fabb17feb90>]"
      ]
     },
     "execution_count": 49,
     "metadata": {},
     "output_type": "execute_result"
    },
    {
     "data": {
      "image/png": "[encoded data removed]",
      "text/plain": [
       "<Figure size 576x396 with 1 Axes>"
      ]
     },
     "metadata": {},
     "output_type": "display_data"
    }
   ],
   "source": [
    "plt.plot(nn['nn'].loss_curve_)"
   ]
  },
  {
   "cell_type": "code",
   "execution_count": 36,
   "metadata": {},
   "outputs": [
    {
     "name": "stdout",
     "output_type": "stream",
     "text": [
      "0.6862905870777304\n",
      "[[3102 1659]\n",
      " [ 254 1083]]\n",
      "              precision    recall  f1-score   support\n",
      "\n",
      "         0.0       0.92      0.65      0.76      4761\n",
      "         1.0       0.39      0.81      0.53      1337\n",
      "\n",
      "    accuracy                           0.69      6098\n",
      "   macro avg       0.66      0.73      0.65      6098\n",
      "weighted avg       0.81      0.69      0.71      6098\n",
      "\n"
     ]
    }
   ],
   "source": [
    "from sklearn.metrics import confusion_matrix\n",
    "y_true = y_test\n",
    "X_true = X_test\n",
    "y_pred = nn.predict(X_true[:, 1:])\n",
    "print(nn.score(X_true[:, 1:], y_true))\n",
    "print(confusion_matrix(y_true, y_pred, labels=[0,1]))\n",
    "print(classification_report(y_true, y_pred))"
   ]
  },
  {
   "cell_type": "code",
   "execution_count": 45,
   "metadata": {},
   "outputs": [
    {
     "name": "stdout",
     "output_type": "stream",
     "text": [
      "0.7723375064311438\n",
      "0.7690999635612777\n"
     ]
    }
   ],
   "source": [
    "from sklearn.naive_bayes import GaussianNB\n",
    "\n",
    "nb_model = Pipeline(steps=[(\"StandardScaler\", StandardScaler()), (\"nb\", GaussianNB())])\n",
    "nb_model.fit(X_train[:, 1:], y_train)\n",
    "\n",
    "print(nb_model.score(X_train[:, 1:], y_train))\n",
    "print(nb_model.score(X_dev[:, 1:], y_dev))"
   ]
  },
  {
   "cell_type": "code",
   "execution_count": 46,
   "metadata": {},
   "outputs": [
    {
     "name": "stdout",
     "output_type": "stream",
     "text": [
      "0.7368002990374731\n",
      "0.7335281615302869\n"
     ]
    }
   ],
   "source": [
    "from sklearn.svm import SVC\n",
    "\n",
    "svc = Pipeline(steps=[(\"StandardScaler\", StandardScaler()), (\"svc\", SVC(kernel=\"linear\", probability=True))])\n",
    "svc.fit(X_train_uniform[:, 1:], y_train_uniform)\n",
    "\n",
    "print(svc.score(X_train_uniform[:, 1:], y_train_uniform))\n",
    "print(svc.score(X_dev_uniform[:, 1:], y_dev_uniform))"
   ]
  },
  {
   "cell_type": "code",
   "execution_count": 51,
   "metadata": {},
   "outputs": [
    {
     "data": {
      "image/png": "[encoded data removed]",
      "text/plain": [
       "<Figure size 576x396 with 1 Axes>"
      ]
     },
     "metadata": {},
     "output_type": "display_data"
    }
   ],
   "source": [
    "from sklearn.metrics import roc_auc_score, roc_curve\n",
    "\n",
    "y_pred = nn.predict_proba(X_test[:, 1:])\n",
    "tpr_grd_nn, fpr_grd_nn, _ = roc_curve(y_test, y_pred[:,1])\n",
    "\n",
    "y_pred = nb_model.predict_proba(X_test[:, 1:])\n",
    "tpr_grd_nb, fpr_grd_nb, _ = roc_curve(y_test, y_pred[:,1])\n",
    "\n",
    "y_pred = svc.predict_proba(X_test[:, 1:])\n",
    "tpr_grd_lr, fpr_grd_lr, _ = roc_curve(y_test, y_pred[:,1])\n",
    "\n",
    "plt.figure(1)\n",
    "plt.plot([0, 1], [0, 1], 'k--')\n",
    "plt.plot(tpr_grd_nn, fpr_grd_nn, label='Neural Network Classifier')\n",
    "plt.plot(tpr_grd_nb, fpr_grd_nb, label='Naive Bayes Classifier')\n",
    "plt.plot(tpr_grd_lr, fpr_grd_lr, label='Linear Support Vector Classifier')\n",
    "plt.xlabel('False positive rate')\n",
    "plt.ylabel('True positive rate')\n",
    "plt.title('ROC curve')\n",
    "plt.legend(loc='best')\n",
    "plt.show()"
   ]
  },
  {
   "cell_type": "code",
   "execution_count": 39,
   "metadata": {},
   "outputs": [
    {
     "name": "stdout",
     "output_type": "stream",
     "text": [
      "0.7727123647097409\n",
      "[[4050  711]\n",
      " [ 675  662]]\n",
      "              precision    recall  f1-score   support\n",
      "\n",
      "         0.0       0.86      0.85      0.85      4761\n",
      "         1.0       0.48      0.50      0.49      1337\n",
      "\n",
      "    accuracy                           0.77      6098\n",
      "   macro avg       0.67      0.67      0.67      6098\n",
      "weighted avg       0.77      0.77      0.77      6098\n",
      "\n"
     ]
    }
   ],
   "source": [
    "y_true = y_test\n",
    "X_true = X_test\n",
    "y_pred = nb_model.predict(X_true[:, 1:])\n",
    "print(nb_model.score(X_true[:, 1:], y_true))\n",
    "print(confusion_matrix(y_true, y_pred, labels=[0,1]))\n",
    "print(classification_report(y_true, y_pred))"
   ]
  },
  {
   "cell_type": "code",
   "execution_count": 42,
   "metadata": {},
   "outputs": [
    {
     "name": "stdout",
     "output_type": "stream",
     "text": [
      "-0.10513090685135418\n",
      "[[4758    3]\n",
      " [1320   17]]\n",
      "              precision    recall  f1-score   support\n",
      "\n",
      "         0.0       0.78      1.00      0.88      4761\n",
      "         1.0       0.85      0.01      0.03      1337\n",
      "\n",
      "    accuracy                           0.78      6098\n",
      "   macro avg       0.82      0.51      0.45      6098\n",
      "weighted avg       0.80      0.78      0.69      6098\n",
      "\n"
     ]
    }
   ],
   "source": [
    "y_true = y_test\n",
    "X_true = X_test\n",
    "y_pred = lr.predict(X_true[:, 1:])\n",
    "print(lr.score(X_true[:, 1:], y_true))\n",
    "print(confusion_matrix(y_true, y_pred.astype(int), labels=[0,1]))\n",
    "print(classification_report(y_true, y_pred.astype(int)))"
   ]
  },
  {
   "cell_type": "code",
   "execution_count": null,
   "metadata": {},
   "outputs": [],
   "source": [
    "X_dev.shape"
   ]
  },
  {
   "cell_type": "code",
   "execution_count": null,
   "metadata": {},
   "outputs": [],
   "source": [
    "print(np.sum(y_dev))\n",
    "print(y_dev.shape)"
   ]
  },
  {
   "cell_type": "code",
   "execution_count": null,
   "metadata": {},
   "outputs": [],
   "source": [
    "fig = plt.figure()\n",
    "plt.scatter(X_test[np.array(y_test==1), 0], X_test[np.array(y_test==1), 1], color=\"red\")"
   ]
  },
  {
   "cell_type": "code",
   "execution_count": null,
   "metadata": {},
   "outputs": [],
   "source": [
    "np.max(X_test[np.array(y_test==1)])"
   ]
  },
  {
   "cell_type": "code",
   "execution_count": null,
   "metadata": {},
   "outputs": [],
   "source": [
    "np.min(X_test[np.array(y_test==1)])"
   ]
  },
  {
   "cell_type": "code",
   "execution_count": null,
   "metadata": {},
   "outputs": [],
   "source": [
    "X_test[:5]"
   ]
  },
  {
   "cell_type": "code",
   "execution_count": null,
   "metadata": {},
   "outputs": [],
   "source": []
  }
 ],
 "metadata": {
  "kernelspec": {
   "display_name": "Python 3",
   "language": "python",
   "name": "python3"
  },
  "language_info": {
   "codemirror_mode": {
    "name": "ipython",
    "version": 3
   },
   "file_extension": ".py",
   "mimetype": "text/x-python",
   "name": "python",
   "nbconvert_exporter": "python",
   "pygments_lexer": "ipython3",
   "version": "3.7.9"
  }
 },
 "nbformat": 4,
 "nbformat_minor": 2
}
