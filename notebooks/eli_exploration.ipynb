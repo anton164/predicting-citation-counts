{
 "metadata": {
  "language_info": {
   "codemirror_mode": {
    "name": "ipython",
    "version": 3
   },
   "file_extension": ".py",
   "mimetype": "text/x-python",
   "name": "python",
   "nbconvert_exporter": "python",
   "pygments_lexer": "ipython3",
   "version": "3.8.5-final"
  },
  "orig_nbformat": 2,
  "kernelspec": {
   "name": "Python 3.8.5 64-bit",
   "display_name": "Python 3.8.5 64-bit",
   "metadata": {
    "interpreter": {
     "hash": "aee8b7b246df8f9039afb4144a1f6fd8d2ca17a180786b69acc140d282b71a49"
    }
   }
  }
 },
 "nbformat": 4,
 "nbformat_minor": 2,
 "cells": [
  {
   "cell_type": "code",
   "execution_count": 1,
   "metadata": {},
   "outputs": [],
   "source": [
    "import pandas as pd\n",
    "df = pd.read_json(\"250k.docs.jsonl\", lines=True)"
   ]
  },
  {
   "cell_type": "code",
   "execution_count": 2,
   "metadata": {},
   "outputs": [
    {
     "output_type": "execute_result",
     "data": {
      "text/plain": [
       "Index(['PaperId', 'Title', 'Rank', 'CitationCount', 'Doi', 'DocType',\n",
       "       'BookTitle', 'Volume', 'Issue', 'FirstPage', 'LastPage',\n",
       "       'PublishedDate', 'Publisher', 'Journal', 'Authors', 'FieldsOfStudy',\n",
       "       'Urls', 'PdfUrl', 'Abstract'],\n",
       "      dtype='object')"
      ]
     },
     "metadata": {},
     "execution_count": 2
    }
   ],
   "source": [
    "df.columns"
   ]
  },
  {
   "cell_type": "code",
   "execution_count": 3,
   "metadata": {},
   "outputs": [
    {
     "output_type": "execute_result",
     "data": {
      "text/plain": [
       "array(['Journal', 'Book', 'Patent', 'Conference', None], dtype=object)"
      ]
     },
     "metadata": {},
     "execution_count": 3
    }
   ],
   "source": [
    "df.DocType.unique()"
   ]
  },
  {
   "cell_type": "code",
   "execution_count": 4,
   "metadata": {},
   "outputs": [],
   "source": [
    "papers = df[(df.DocType == \"Journal\") | (df.DocType == \"Conference\")]"
   ]
  },
  {
   "cell_type": "code",
   "execution_count": 5,
   "metadata": {},
   "outputs": [
    {
     "output_type": "execute_result",
     "data": {
      "text/plain": [
       "Index(['PaperId', 'Title', 'Rank', 'CitationCount', 'Doi', 'DocType',\n",
       "       'BookTitle', 'Volume', 'Issue', 'FirstPage', 'LastPage',\n",
       "       'PublishedDate', 'Publisher', 'Journal', 'Authors', 'FieldsOfStudy',\n",
       "       'Urls', 'PdfUrl', 'Abstract'],\n",
       "      dtype='object')"
      ]
     },
     "metadata": {},
     "execution_count": 5
    }
   ],
   "source": [
    "papers.columns"
   ]
  },
  {
   "cell_type": "code",
   "execution_count": 6,
   "metadata": {},
   "outputs": [],
   "source": [
    "papers = papers.drop(columns=[\"Urls\", \"PdfUrl\", \"Doi\", \"Volume\", \"Issue\", \"FirstPage\", \"LastPage\", \"BookTitle\"])"
   ]
  },
  {
   "cell_type": "code",
   "execution_count": 7,
   "metadata": {},
   "outputs": [
    {
     "output_type": "execute_result",
     "data": {
      "text/plain": [
       "[{'Name': 'F. Motoyoshi', 'AuthorId': '2632896860', 'SequenceNumber': 1},\n",
       " {'Name': 'N. Oshima', 'AuthorId': '2708987407', 'SequenceNumber': 2}]"
      ]
     },
     "metadata": {},
     "execution_count": 7
    }
   ],
   "source": [
    "papers.iloc[0].Authors"
   ]
  },
  {
   "cell_type": "code",
   "execution_count": 8,
   "metadata": {},
   "outputs": [
    {
     "output_type": "execute_result",
     "data": {
      "text/plain": [
       "[{'Name': 'tobacco mosaic virus', 'Level': 3},\n",
       " {'Name': 'virus', 'Level': 2},\n",
       " {'Name': 'protoplast', 'Level': 2},\n",
       " {'Name': 'virology', 'Level': 1},\n",
       " {'Name': 'botany', 'Level': 1},\n",
       " {'Name': 'biology', 'Level': 0}]"
      ]
     },
     "metadata": {},
     "execution_count": 8
    }
   ],
   "source": [
    "papers.iloc[0].FieldsOfStudy"
   ]
  },
  {
   "cell_type": "code",
   "execution_count": 9,
   "metadata": {},
   "outputs": [],
   "source": [
    "authors = set()\n",
    "for i, row in papers.iterrows():\n",
    "    for entry in row.Authors:\n",
    "        authors.add(entry[\"AuthorId\"])"
   ]
  },
  {
   "cell_type": "code",
   "execution_count": 10,
   "metadata": {},
   "outputs": [
    {
     "output_type": "execute_result",
     "data": {
      "text/plain": [
       "533118"
      ]
     },
     "metadata": {},
     "execution_count": 10
    }
   ],
   "source": [
    "len(authors)"
   ]
  },
  {
   "cell_type": "code",
   "execution_count": 11,
   "metadata": {},
   "outputs": [],
   "source": [
    "major_fields = set()\n",
    "no_major_fields = set()\n",
    "minor_fields = set()\n",
    "topics = set()\n",
    "problems = set()\n",
    "for i, row in papers.iterrows():\n",
    "    major_amount = 0\n",
    "    for entry in row.FieldsOfStudy:\n",
    "        if entry[\"Level\"] == 0:\n",
    "            major_fields.add(entry[\"Name\"])\n",
    "            major_amount += 1\n",
    "        elif entry[\"Level\"] == 1:\n",
    "            minor_fields.add(entry[\"Name\"])\n",
    "        elif entry[\"Level\"] == 2:\n",
    "            topics.add(entry[\"Name\"])\n",
    "        else:\n",
    "            problems.add(entry[\"Name\"])\n",
    "    no_major_fields.add(major_amount)"
   ]
  },
  {
   "cell_type": "code",
   "execution_count": 12,
   "metadata": {},
   "outputs": [
    {
     "output_type": "stream",
     "name": "stdout",
     "text": [
      "Major Fields: 19, Max Amount: {0, 1, 2, 3}\nMinor Fields: 294\nTopics: 28274\nProblems: 49262\n"
     ]
    }
   ],
   "source": [
    "print(f\"Major Fields: {len(major_fields)}, Amounts: {no_major_fields}\")\n",
    "print(f\"Minor Fields: {len(minor_fields)}\")\n",
    "print(f\"Topics: {len(topics)}\")\n",
    "print(f\"Problems: {len(problems)}\")"
   ]
  },
  {
   "cell_type": "code",
   "execution_count": 15,
   "metadata": {},
   "outputs": [],
   "source": [
    "import numpy as np\n",
    "majors = []\n",
    "minors = []\n",
    "journals = []\n",
    "for i, row in papers.iterrows():\n",
    "    major_fields = []\n",
    "    minor_fields = []\n",
    "    journal_entry = row.Journal\n",
    "    for entry in row.FieldsOfStudy:\n",
    "        level = entry[\"Level\"]\n",
    "        name = entry[\"Name\"]\n",
    "        if level == 0:\n",
    "            major_fields.append(name)\n",
    "        elif level == 1:\n",
    "            minor_fields.append(name)\n",
    "    majors.append(major_fields)\n",
    "    minors.append(minor_fields)\n",
    "    journals.append(journal_entry[\"JournalName\"] if journal_entry else np.nan)\n",
    "    \n",
    "papers[\"MajorFields\"] = majors\n",
    "papers[\"MinorFields\"] = minors\n",
    "papers[\"Journal\"] = journals"
   ]
  },
  {
   "cell_type": "code",
   "execution_count": 17,
   "metadata": {},
   "outputs": [
    {
     "output_type": "execute_result",
     "data": {
      "text/plain": [
       "0                               Journal of General Virology\n",
       "2                              Journal of Chemical Sciences\n",
       "5         The Journal of Clinical Endocrinology and Meta...\n",
       "6                   Women's Studies International Quarterly\n",
       "7                                   Trabajos De Prehistoria\n",
       "                                ...                        \n",
       "249992         Studies in History and Philosophy of Science\n",
       "249993                                  Sleep and Breathing\n",
       "249995    International journal of innovative research a...\n",
       "249996                                Journal of Complexity\n",
       "249998                                  Thermal Engineering\n",
       "Name: Journal, Length: 182007, dtype: object"
      ]
     },
     "metadata": {},
     "execution_count": 17
    }
   ],
   "source": [
    "papers.Journal"
   ]
  },
  {
   "cell_type": "code",
   "execution_count": null,
   "metadata": {},
   "outputs": [],
   "source": []
  }
 ]
}