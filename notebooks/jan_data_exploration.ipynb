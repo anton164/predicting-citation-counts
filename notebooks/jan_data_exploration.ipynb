{
 "cells": [
  {
   "cell_type": "code",
   "execution_count": 1,
   "metadata": {},
   "outputs": [],
   "source": [
    "import pandas as pd\n",
    "import numpy as np\n",
    "df = pd.read_csv(\"../saved/5m_journal_conf_comp_sci_with_rank_features.csv\")\n",
    "# df = pd.read_csv(\"../saved/5m_journal_conf_comp_sci_last_20.csv\")\n",
    "# df = pd.read_csv(\"../saved/250k_journal_conf_last20.csv\")"
   ]
  },
  {
   "cell_type": "code",
   "execution_count": 2,
   "metadata": {},
   "outputs": [
    {
     "data": {
      "text/plain": [
       "['PaperId',\n",
       " 'Abstract',\n",
       " 'Author_1',\n",
       " 'Author_10',\n",
       " 'Author_11',\n",
       " 'Author_2',\n",
       " 'Author_3',\n",
       " 'Author_4',\n",
       " 'Author_5',\n",
       " 'Author_6',\n",
       " 'Author_7',\n",
       " 'Author_8',\n",
       " 'Author_9',\n",
       " 'CitationCount',\n",
       " 'CitationCountPerYear',\n",
       " 'FieldOfStudy_0',\n",
       " 'FieldOfStudy_1',\n",
       " 'FieldOfStudy_2',\n",
       " 'FieldOfStudy_3',\n",
       " 'FieldOfStudy_4',\n",
       " 'FieldOfStudy_5',\n",
       " 'FirstPage',\n",
       " 'JournalName',\n",
       " 'LastPage',\n",
       " 'PaperId.1',\n",
       " 'PublishedDate',\n",
       " 'Publisher',\n",
       " 'Rank',\n",
       " 'Title',\n",
       " 'YearsSincePublication',\n",
       " 'AuthorProminence',\n",
       " 'MagBin',\n",
       " 'CitationBin',\n",
       " 'AuthorRank',\n",
       " 'JournalNameRank',\n",
       " 'PublisherRank']"
      ]
     },
     "execution_count": 2,
     "metadata": {},
     "output_type": "execute_result"
    }
   ],
   "source": [
    "df.columns.tolist()"
   ]
  },
  {
   "cell_type": "code",
   "execution_count": 3,
   "metadata": {},
   "outputs": [
    {
     "data": {
      "text/plain": [
       "(282456,)"
      ]
     },
     "execution_count": 3,
     "metadata": {},
     "output_type": "execute_result"
    }
   ],
   "source": [
    "df_cs = df.loc[df[\"FieldOfStudy_0\"] == \"computer science\"]\n",
    "cc = df_cs[\"CitationCountPerYear\"].values\n",
    "cc.shape"
   ]
  },
  {
   "cell_type": "code",
   "execution_count": 4,
   "metadata": {},
   "outputs": [
    {
     "name": "stdout",
     "output_type": "stream",
     "text": [
      "Max number of citations: 3959.474504249291\n",
      "Median number of citations: 0.2840466926070039\n",
      "Mean number of citations: 1.7076045926911643\n",
      "Std number of citations: 14.27315354135886\n",
      "Number of papers with 0 citations: 64673\n",
      "Number papers with over 50 citations: 823\n",
      "Number papers with over 100 citations: 289\n",
      "Number papers with over 1k citations: 7\n",
      "Number papers with over 10k citations: 0\n"
     ]
    }
   ],
   "source": [
    "print(f\"Max number of citations: {np.max(cc)}\")\n",
    "print(f\"Median number of citations: {np.median(cc)}\")\n",
    "print(f\"Mean number of citations: {np.mean(cc)}\")\n",
    "print(f\"Std number of citations: {np.std(cc)}\")\n",
    "\n",
    "print(f\"Number of papers with 0 citations: {np.sum((cc == 0))}\")\n",
    "print(f\"Number papers with over 50 citations: {np.sum(cc > 50)}\")\n",
    "print(f\"Number papers with over 100 citations: {np.sum(cc > 100)}\")\n",
    "print(f\"Number papers with over 1k citations: {np.sum(cc > 1000)}\")\n",
    "print(f\"Number papers with over 10k citations: {np.sum(cc > 10000)}\")\n"
   ]
  },
  {
   "cell_type": "code",
   "execution_count": 5,
   "metadata": {},
   "outputs": [
    {
     "name": "stderr",
     "output_type": "stream",
     "text": [
      "/Users/janhenrikbernhard/opt/anaconda3/envs/aml/lib/python3.7/site-packages/sklearn/base.py:213: FutureWarning: From version 0.24, get_params will raise an AttributeError if a parameter cannot be retrieved as an instance attribute. Previously it would return None.\n",
      "  FutureWarning)\n"
     ]
    },
    {
     "data": {
      "text/plain": [
       "KElbowVisualizer(ax=<AxesSubplot:>, k=None, model=None)"
      ]
     },
     "execution_count": 5,
     "metadata": {},
     "output_type": "execute_result"
    },
    {
     "data": {
      "image/png": "[encoded data removed]",
      "text/plain": [
       "<Figure size 576x396 with 2 Axes>"
      ]
     },
     "metadata": {},
     "output_type": "display_data"
    }
   ],
   "source": [
    "from sklearn.cluster import KMeans\n",
    "from yellowbrick.cluster import KElbowVisualizer\n",
    "model = KMeans()\n",
    "visualizer = KElbowVisualizer(model, k=(2,12))\n",
    "visualizer.fit(cc.reshape(-1, 1))"
   ]
  },
  {
   "cell_type": "code",
   "execution_count": 57,
   "metadata": {},
   "outputs": [
    {
     "data": {
      "text/plain": [
       "array([[2.54675146e-01],\n",
       "       [1.63136712e-33],\n",
       "       [5.32159706e+01],\n",
       "       [1.09282243e+00],\n",
       "       [6.29231249e+00]])"
      ]
     },
     "execution_count": 57,
     "metadata": {},
     "output_type": "execute_result"
    }
   ],
   "source": [
    "from sklearn.mixture import GaussianMixture as GMM\n",
    "gmm = GMM(n_components=5, random_state=0)\n",
    "gmm.fit(cc.reshape(-1,1))\n",
    "gmm.means_"
   ]
  },
  {
   "cell_type": "code",
   "execution_count": 58,
   "metadata": {},
   "outputs": [
    {
     "data": {
      "text/plain": [
       "array([[[2.75394812e-02]],\n",
       "\n",
       "       [[1.00000000e-06]],\n",
       "\n",
       "       [[1.40213934e+04]],\n",
       "\n",
       "       [[3.42302064e-01]],\n",
       "\n",
       "       [[1.87025199e+01]]])"
      ]
     },
     "execution_count": 58,
     "metadata": {},
     "output_type": "execute_result"
    }
   ],
   "source": [
    "gmm.predict([[3]])\n",
    "gmm.covariances_"
   ]
  },
  {
   "cell_type": "code",
   "execution_count": 8,
   "metadata": {},
   "outputs": [],
   "source": [
    "df_cs.drop(labels=[\n",
    "'PaperId',\n",
    "'Author_1',\n",
    "'Author_10',\n",
    "'Author_11',\n",
    "'Author_2',\n",
    "'Author_3',\n",
    "'Author_4',\n",
    "'Author_5',\n",
    "'Author_6',\n",
    "'Author_7',\n",
    "'Author_8',\n",
    "'Author_9',\n",
    "'FieldOfStudy_0',\n",
    "'FieldOfStudy_1',\n",
    "'FieldOfStudy_2',\n",
    "'FieldOfStudy_3',\n",
    "'FieldOfStudy_4',\n",
    "'FieldOfStudy_5',\n",
    "'FirstPage',\n",
    "'JournalName',\n",
    "'LastPage',\n",
    "'PaperId.1',\n",
    "'PublishedDate',\n",
    "'Publisher'\n",
    "], inplace=True, axis=1)"
   ]
  },
  {
   "cell_type": "code",
   "execution_count": 9,
   "metadata": {},
   "outputs": [
    {
     "name": "stdout",
     "output_type": "stream",
     "text": [
      "(282456, 12)\n"
     ]
    },
    {
     "data": {
      "text/html": [
       "<div>\n",
       "<style scoped>\n",
       "    .dataframe tbody tr th:only-of-type {\n",
       "        vertical-align: middle;\n",
       "    }\n",
       "\n",
       "    .dataframe tbody tr th {\n",
       "        vertical-align: top;\n",
       "    }\n",
       "\n",
       "    .dataframe thead th {\n",
       "        text-align: right;\n",
       "    }\n",
       "</style>\n",
       "<table border=\"1\" class=\"dataframe\">\n",
       "  <thead>\n",
       "    <tr style=\"text-align: right;\">\n",
       "      <th></th>\n",
       "      <th>Abstract</th>\n",
       "      <th>CitationCount</th>\n",
       "      <th>CitationCountPerYear</th>\n",
       "      <th>Rank</th>\n",
       "      <th>Title</th>\n",
       "      <th>YearsSincePublication</th>\n",
       "      <th>AuthorProminence</th>\n",
       "      <th>MagBin</th>\n",
       "      <th>CitationBin</th>\n",
       "      <th>AuthorRank</th>\n",
       "      <th>JournalNameRank</th>\n",
       "      <th>PublisherRank</th>\n",
       "    </tr>\n",
       "  </thead>\n",
       "  <tbody>\n",
       "    <tr>\n",
       "      <th>0</th>\n",
       "      <td>There are many application areas for wireless ...</td>\n",
       "      <td>3</td>\n",
       "      <td>0.346081</td>\n",
       "      <td>20673</td>\n",
       "      <td>Voice over ZigBee wireless sensor network appl...</td>\n",
       "      <td>8.668493</td>\n",
       "      <td>0</td>\n",
       "      <td>low</td>\n",
       "      <td>below-average</td>\n",
       "      <td>16.0</td>\n",
       "      <td>1.0</td>\n",
       "      <td>627.0</td>\n",
       "    </tr>\n",
       "    <tr>\n",
       "      <th>1</th>\n",
       "      <td>Two important automation characteristics are c...</td>\n",
       "      <td>2</td>\n",
       "      <td>0.352827</td>\n",
       "      <td>22262</td>\n",
       "      <td>Crossing the boundaries of automation-Function...</td>\n",
       "      <td>5.668493</td>\n",
       "      <td>0</td>\n",
       "      <td>above-average</td>\n",
       "      <td>below-average</td>\n",
       "      <td>1.0</td>\n",
       "      <td>980.0</td>\n",
       "      <td>596.0</td>\n",
       "    </tr>\n",
       "    <tr>\n",
       "      <th>2</th>\n",
       "      <td>The Japan Meteorological Agency (JMA) has deve...</td>\n",
       "      <td>2</td>\n",
       "      <td>0.201657</td>\n",
       "      <td>20399</td>\n",
       "      <td>An Advanced System for Monitoring Geomagnetic ...</td>\n",
       "      <td>9.917808</td>\n",
       "      <td>0</td>\n",
       "      <td>low</td>\n",
       "      <td>below-average</td>\n",
       "      <td>1.0</td>\n",
       "      <td>449.0</td>\n",
       "      <td>358.0</td>\n",
       "    </tr>\n",
       "    <tr>\n",
       "      <th>3</th>\n",
       "      <td>Abstract   A technique is presented for solvin...</td>\n",
       "      <td>1</td>\n",
       "      <td>0.031072</td>\n",
       "      <td>23916</td>\n",
       "      <td>Solving linear equation systems on vector comp...</td>\n",
       "      <td>32.183562</td>\n",
       "      <td>0</td>\n",
       "      <td>high</td>\n",
       "      <td>low</td>\n",
       "      <td>11.0</td>\n",
       "      <td>1.0</td>\n",
       "      <td>609.0</td>\n",
       "    </tr>\n",
       "    <tr>\n",
       "      <th>4</th>\n",
       "      <td>Many  Internet of Things  (IoT) technologies h...</td>\n",
       "      <td>26</td>\n",
       "      <td>5.200000</td>\n",
       "      <td>18697</td>\n",
       "      <td>EasyConnect: A Management System for IoT Devic...</td>\n",
       "      <td>5.000000</td>\n",
       "      <td>1</td>\n",
       "      <td>low</td>\n",
       "      <td>high</td>\n",
       "      <td>1372.0</td>\n",
       "      <td>502.0</td>\n",
       "      <td>627.0</td>\n",
       "    </tr>\n",
       "  </tbody>\n",
       "</table>\n",
       "</div>"
      ],
      "text/plain": [
       "                                            Abstract  CitationCount  \\\n",
       "0  There are many application areas for wireless ...              3   \n",
       "1  Two important automation characteristics are c...              2   \n",
       "2  The Japan Meteorological Agency (JMA) has deve...              2   \n",
       "3  Abstract   A technique is presented for solvin...              1   \n",
       "4  Many  Internet of Things  (IoT) technologies h...             26   \n",
       "\n",
       "   CitationCountPerYear   Rank  \\\n",
       "0              0.346081  20673   \n",
       "1              0.352827  22262   \n",
       "2              0.201657  20399   \n",
       "3              0.031072  23916   \n",
       "4              5.200000  18697   \n",
       "\n",
       "                                               Title  YearsSincePublication  \\\n",
       "0  Voice over ZigBee wireless sensor network appl...               8.668493   \n",
       "1  Crossing the boundaries of automation-Function...               5.668493   \n",
       "2  An Advanced System for Monitoring Geomagnetic ...               9.917808   \n",
       "3  Solving linear equation systems on vector comp...              32.183562   \n",
       "4  EasyConnect: A Management System for IoT Devic...               5.000000   \n",
       "\n",
       "   AuthorProminence         MagBin    CitationBin  AuthorRank  \\\n",
       "0                 0            low  below-average        16.0   \n",
       "1                 0  above-average  below-average         1.0   \n",
       "2                 0            low  below-average         1.0   \n",
       "3                 0           high            low        11.0   \n",
       "4                 1            low           high      1372.0   \n",
       "\n",
       "   JournalNameRank  PublisherRank  \n",
       "0              1.0          627.0  \n",
       "1            980.0          596.0  \n",
       "2            449.0          358.0  \n",
       "3              1.0          609.0  \n",
       "4            502.0          627.0  "
      ]
     },
     "execution_count": 9,
     "metadata": {},
     "output_type": "execute_result"
    }
   ],
   "source": [
    "print(df_cs.shape)\n",
    "df_cs.head()"
   ]
  },
  {
   "cell_type": "code",
   "execution_count": 59,
   "metadata": {},
   "outputs": [],
   "source": [
    "import matplotlib.pyplot as plt\n",
    "import seaborn as sns\n",
    "\n",
    "def correlation(df, columns=None, plot=True):\n",
    "    t = df.loc[:, columns] if columns else df\n",
    "    if not plot:\n",
    "        print(t.corr())\n",
    "    else:\n",
    "        fig = plt.figure()\n",
    "        mask = np.triu(t.corr())\n",
    "        sns.heatmap(\n",
    "            t.corr(),\n",
    "            mask=mask,\n",
    "            cbar=False,\n",
    "            square=True,\n",
    "            annot=True,\n",
    "            vmin=-1,\n",
    "            vmax=1,\n",
    "            center=0,\n",
    "            cmap=\"coolwarm_r\",\n",
    "            linecolor=\"black\",\n",
    "        )\n",
    "        plt.show()"
   ]
  },
  {
   "cell_type": "code",
   "execution_count": 65,
   "metadata": {},
   "outputs": [],
   "source": [
    "def custom_binning(x, thresholds=None):\n",
    "    for i, threshold in enumerate(thresholds):\n",
    "        if x <= threshold:\n",
    "            return i\n"
   ]
  },
  {
   "cell_type": "code",
   "execution_count": 68,
   "metadata": {},
   "outputs": [
    {
     "name": "stdout",
     "output_type": "stream",
     "text": [
      "[array([[1.63136712e-33]]), array([[0.25467515]]), array([[2.09282243]]), array([[10.29231249]]), array([[171.21597057]])]\n"
     ]
    },
    {
     "data": {
      "text/html": [
       "<div>\n",
       "<style scoped>\n",
       "    .dataframe tbody tr th:only-of-type {\n",
       "        vertical-align: middle;\n",
       "    }\n",
       "\n",
       "    .dataframe tbody tr th {\n",
       "        vertical-align: top;\n",
       "    }\n",
       "\n",
       "    .dataframe thead th {\n",
       "        text-align: right;\n",
       "    }\n",
       "</style>\n",
       "<table border=\"1\" class=\"dataframe\">\n",
       "  <thead>\n",
       "    <tr style=\"text-align: right;\">\n",
       "      <th></th>\n",
       "      <th>Abstract</th>\n",
       "      <th>CitationCount</th>\n",
       "      <th>CitationCountPerYear</th>\n",
       "      <th>Rank</th>\n",
       "      <th>Title</th>\n",
       "      <th>YearsSincePublication</th>\n",
       "      <th>AuthorProminence</th>\n",
       "      <th>MagBin</th>\n",
       "      <th>CitationBin</th>\n",
       "      <th>AuthorRank</th>\n",
       "      <th>JournalNameRank</th>\n",
       "      <th>PublisherRank</th>\n",
       "      <th>BinnedCitationsPerYear</th>\n",
       "      <th>BinnedCitations</th>\n",
       "    </tr>\n",
       "  </thead>\n",
       "  <tbody>\n",
       "    <tr>\n",
       "      <th>0</th>\n",
       "      <td>There are many application areas for wireless ...</td>\n",
       "      <td>3</td>\n",
       "      <td>0.346081</td>\n",
       "      <td>20673</td>\n",
       "      <td>Voice over ZigBee wireless sensor network appl...</td>\n",
       "      <td>8.668493</td>\n",
       "      <td>0</td>\n",
       "      <td>low</td>\n",
       "      <td>below-average</td>\n",
       "      <td>16.0</td>\n",
       "      <td>1.0</td>\n",
       "      <td>627.0</td>\n",
       "      <td>0</td>\n",
       "      <td>2.0</td>\n",
       "    </tr>\n",
       "    <tr>\n",
       "      <th>1</th>\n",
       "      <td>Two important automation characteristics are c...</td>\n",
       "      <td>2</td>\n",
       "      <td>0.352827</td>\n",
       "      <td>22262</td>\n",
       "      <td>Crossing the boundaries of automation-Function...</td>\n",
       "      <td>5.668493</td>\n",
       "      <td>0</td>\n",
       "      <td>above-average</td>\n",
       "      <td>below-average</td>\n",
       "      <td>1.0</td>\n",
       "      <td>980.0</td>\n",
       "      <td>596.0</td>\n",
       "      <td>0</td>\n",
       "      <td>2.0</td>\n",
       "    </tr>\n",
       "    <tr>\n",
       "      <th>2</th>\n",
       "      <td>The Japan Meteorological Agency (JMA) has deve...</td>\n",
       "      <td>2</td>\n",
       "      <td>0.201657</td>\n",
       "      <td>20399</td>\n",
       "      <td>An Advanced System for Monitoring Geomagnetic ...</td>\n",
       "      <td>9.917808</td>\n",
       "      <td>0</td>\n",
       "      <td>low</td>\n",
       "      <td>below-average</td>\n",
       "      <td>1.0</td>\n",
       "      <td>449.0</td>\n",
       "      <td>358.0</td>\n",
       "      <td>0</td>\n",
       "      <td>1.0</td>\n",
       "    </tr>\n",
       "    <tr>\n",
       "      <th>3</th>\n",
       "      <td>Abstract   A technique is presented for solvin...</td>\n",
       "      <td>1</td>\n",
       "      <td>0.031072</td>\n",
       "      <td>23916</td>\n",
       "      <td>Solving linear equation systems on vector comp...</td>\n",
       "      <td>32.183562</td>\n",
       "      <td>0</td>\n",
       "      <td>high</td>\n",
       "      <td>low</td>\n",
       "      <td>11.0</td>\n",
       "      <td>1.0</td>\n",
       "      <td>609.0</td>\n",
       "      <td>0</td>\n",
       "      <td>1.0</td>\n",
       "    </tr>\n",
       "    <tr>\n",
       "      <th>4</th>\n",
       "      <td>Many  Internet of Things  (IoT) technologies h...</td>\n",
       "      <td>26</td>\n",
       "      <td>5.200000</td>\n",
       "      <td>18697</td>\n",
       "      <td>EasyConnect: A Management System for IoT Devic...</td>\n",
       "      <td>5.000000</td>\n",
       "      <td>1</td>\n",
       "      <td>low</td>\n",
       "      <td>high</td>\n",
       "      <td>1372.0</td>\n",
       "      <td>502.0</td>\n",
       "      <td>627.0</td>\n",
       "      <td>4</td>\n",
       "      <td>3.0</td>\n",
       "    </tr>\n",
       "  </tbody>\n",
       "</table>\n",
       "</div>"
      ],
      "text/plain": [
       "                                            Abstract  CitationCount  \\\n",
       "0  There are many application areas for wireless ...              3   \n",
       "1  Two important automation characteristics are c...              2   \n",
       "2  The Japan Meteorological Agency (JMA) has deve...              2   \n",
       "3  Abstract   A technique is presented for solvin...              1   \n",
       "4  Many  Internet of Things  (IoT) technologies h...             26   \n",
       "\n",
       "   CitationCountPerYear   Rank  \\\n",
       "0              0.346081  20673   \n",
       "1              0.352827  22262   \n",
       "2              0.201657  20399   \n",
       "3              0.031072  23916   \n",
       "4              5.200000  18697   \n",
       "\n",
       "                                               Title  YearsSincePublication  \\\n",
       "0  Voice over ZigBee wireless sensor network appl...               8.668493   \n",
       "1  Crossing the boundaries of automation-Function...               5.668493   \n",
       "2  An Advanced System for Monitoring Geomagnetic ...               9.917808   \n",
       "3  Solving linear equation systems on vector comp...              32.183562   \n",
       "4  EasyConnect: A Management System for IoT Devic...               5.000000   \n",
       "\n",
       "   AuthorProminence         MagBin    CitationBin  AuthorRank  \\\n",
       "0                 0            low  below-average        16.0   \n",
       "1                 0  above-average  below-average         1.0   \n",
       "2                 0            low  below-average         1.0   \n",
       "3                 0           high            low        11.0   \n",
       "4                 1            low           high      1372.0   \n",
       "\n",
       "   JournalNameRank  PublisherRank  BinnedCitationsPerYear  BinnedCitations  \n",
       "0              1.0          627.0                       0              2.0  \n",
       "1            980.0          596.0                       0              2.0  \n",
       "2            449.0          358.0                       0              1.0  \n",
       "3              1.0          609.0                       0              1.0  \n",
       "4            502.0          627.0                       4              3.0  "
      ]
     },
     "execution_count": 68,
     "metadata": {},
     "output_type": "execute_result"
    }
   ],
   "source": [
    "threshold = [mu + np.sqrt(var).round() for mu, var in zip(gmm.means_, gmm.covariances_)]\n",
    "threshold.sort()\n",
    "print(threshold)\n",
    "df_cs[\"BinnedCitations\"] = pd.Series([custom_binning(x, thresholds=threshold) for x in cc], index=df_cs.index)\n",
    "# df_cs[\"BinnedCitationsPerYear\"] = pd.Series(gmm.predict(cc.reshape(-1,1)).reshape(-1,), index=df_cs.index)\n",
    "df_cs.head()"
   ]
  },
  {
   "cell_type": "code",
   "execution_count": 69,
   "metadata": {},
   "outputs": [
    {
     "data": {
      "image/png": "[encoded data removed]",
      "text/plain": [
       "<Figure size 576x396 with 1 Axes>"
      ]
     },
     "metadata": {},
     "output_type": "display_data"
    }
   ],
   "source": [
    "correlation(df_cs, columns=[\n",
    "    \"CitationCount\",\n",
    "    \"BinnedCitationsPerYear\",\n",
    "    \"YearsSincePublication\",\n",
    "    \"AuthorProminence\",\n",
    "    \"AuthorRank\",\n",
    "    \"JournalNameRank\",\n",
    "    \"PublisherRank\",\n",
    "    \"Rank\"\n",
    "])"
   ]
  },
  {
   "cell_type": "code",
   "execution_count": 70,
   "metadata": {},
   "outputs": [
    {
     "name": "stdout",
     "output_type": "stream",
     "text": [
      "[121695, 64673, 3087, 64010, 28991]\n"
     ]
    },
    {
     "data": {
      "text/plain": [
       "([<matplotlib.axis.XTick at 0x7fbef3739a50>,\n",
       "  <matplotlib.axis.XTick at 0x7fbef373e550>,\n",
       "  <matplotlib.axis.XTick at 0x7fbef373e110>,\n",
       "  <matplotlib.axis.XTick at 0x7fbef2d33950>,\n",
       "  <matplotlib.axis.XTick at 0x7fbef2d33810>],\n",
       " [Text(0, 0, ''),\n",
       "  Text(0, 0, ''),\n",
       "  Text(0, 0, ''),\n",
       "  Text(0, 0, ''),\n",
       "  Text(0, 0, '')])"
      ]
     },
     "execution_count": 70,
     "metadata": {},
     "output_type": "execute_result"
    },
    {
     "data": {
      "image/png": "[encoded data removed]",
      "text/plain": [
       "<Figure size 576x396 with 1 Axes>"
      ]
     },
     "metadata": {},
     "output_type": "display_data"
    }
   ],
   "source": [
    "classes = df_cs[\"BinnedCitationsPerYear\"].unique()\n",
    "classes.sort()\n",
    "x = [np.sum(df_cs.loc[:, \"BinnedCitationsPerYear\"].values == c) for c in classes]\n",
    "print(x)\n",
    "fig = plt.figure()\n",
    "plt.plot(classes, x)\n",
    "plt.ylabel(\"Instances per Class\")\n",
    "plt.xlabel(\"Class Label\")\n",
    "plt.xticks(classes)"
   ]
  },
  {
   "cell_type": "code",
   "execution_count": 71,
   "metadata": {},
   "outputs": [
    {
     "name": "stdout",
     "output_type": "stream",
     "text": [
      "(214696, 14)\n",
      "[0 4 3]\n"
     ]
    }
   ],
   "source": [
    "df_uniform = df_cs.copy()\n",
    "df_uniform.drop(df_uniform[df_uniform[\"BinnedCitationsPerYear\"]==1].index, inplace=True)\n",
    "df_uniform.drop(df_uniform[df_uniform[\"BinnedCitationsPerYear\"]==2].index, inplace=True)\n",
    "print(df_uniform.shape)\n",
    "print(df_uniform[\"BinnedCitationsPerYear\"].unique())"
   ]
  },
  {
   "cell_type": "code",
   "execution_count": 72,
   "metadata": {},
   "outputs": [],
   "source": [
    "df_uniform[df_uniform[\"BinnedCitationsPerYear\"]==3] = 1\n",
    "df_uniform[df_uniform[\"BinnedCitationsPerYear\"]==4] = 1"
   ]
  },
  {
   "cell_type": "code",
   "execution_count": 73,
   "metadata": {},
   "outputs": [
    {
     "name": "stdout",
     "output_type": "stream",
     "text": [
      "[121695, 93001] [0 1]\n"
     ]
    },
    {
     "data": {
      "text/plain": [
       "([<matplotlib.axis.XTick at 0x7fbef25dfb10>,\n",
       "  <matplotlib.axis.XTick at 0x7fbef8cc2dd0>],\n",
       " [Text(0, 0, ''), Text(0, 0, '')])"
      ]
     },
     "execution_count": 73,
     "metadata": {},
     "output_type": "execute_result"
    },
    {
     "data": {
      "image/png": "[encoded data removed]",
      "text/plain": [
       "<Figure size 576x396 with 1 Axes>"
      ]
     },
     "metadata": {},
     "output_type": "display_data"
    }
   ],
   "source": [
    "classes = df_uniform[\"BinnedCitationsPerYear\"].unique()\n",
    "x = [np.sum(df_uniform.loc[:, \"BinnedCitationsPerYear\"].values == c) for c in classes]\n",
    "print(x, classes)\n",
    "fig = plt.figure()\n",
    "plt.bar(classes, x)\n",
    "plt.ylabel(\"Instances per Class\")\n",
    "plt.xlabel(\"Class Label\")\n",
    "plt.xticks(classes)"
   ]
  },
  {
   "cell_type": "code",
   "execution_count": 74,
   "metadata": {},
   "outputs": [
    {
     "data": {
      "image/png": "[encoded data removed]",
      "text/plain": [
       "<Figure size 576x396 with 1 Axes>"
      ]
     },
     "metadata": {},
     "output_type": "display_data"
    }
   ],
   "source": [
    "correlation(df_uniform, columns=[\n",
    "    \"CitationCount\",\n",
    "    \"BinnedCitationsPerYear\",\n",
    "    \"YearsSincePublication\",\n",
    "    \"AuthorProminence\",\n",
    "    \"AuthorRank\",\n",
    "    \"JournalNameRank\",\n",
    "    \"PublisherRank\",\n",
    "    \"Rank\"\n",
    "])"
   ]
  },
  {
   "cell_type": "code",
   "execution_count": 83,
   "metadata": {},
   "outputs": [
    {
     "name": "stdout",
     "output_type": "stream",
     "text": [
      "(214696, 3) (214696,)\n"
     ]
    }
   ],
   "source": [
    "from sklearn.model_selection import train_test_split\n",
    "from sklearn.neural_network import MLPClassifier\n",
    "features = [ \n",
    "    \"AuthorRank\",\n",
    "    \"JournalNameRank\",\n",
    "    \"PublisherRank\"\n",
    "    ]\n",
    "X = df_uniform.loc[:, features].values\n",
    "y = df_uniform.loc[:, \"BinnedCitationsPerYear\"].values\n",
    "print(X.shape, y.shape)\n",
    "\n",
    "X_, X_test, y_, y_test = train_test_split(X, y, test_size=0.1)\n",
    "X_train, X_dev, y_train, y_dev = train_test_split(X_, y_, test_size=0.15)\n",
    "\n",
    "X_train_mini, y_train_mini = X_train[:1000], y[:1000]"
   ]
  },
  {
   "cell_type": "code",
   "execution_count": 84,
   "metadata": {},
   "outputs": [],
   "source": [
    "def make_uniform(labels, max_cnt):\n",
    "    selection= np.zeros_like(labels, dtype=bool)\n",
    "    for c in range(np.min(labels), np.max(labels)+1):\n",
    "        cnt = 0\n",
    "        for i, y in enumerate(labels):\n",
    "            if cnt == split: break\n",
    "            bool_val = y == c\n",
    "            if bool_val:\n",
    "                cnt += int(bool_val)\n",
    "                selection[i] = bool_val\n",
    "    return selection"
   ]
  },
  {
   "cell_type": "code",
   "execution_count": 85,
   "metadata": {
    "tags": []
   },
   "outputs": [
    {
     "name": "stdout",
     "output_type": "stream",
     "text": [
      "              precision    recall  f1-score   support\n",
      "\n",
      "           0       1.00      1.00      1.00     71150\n",
      "           1       1.00      1.00      1.00     71150\n",
      "\n",
      "    accuracy                           1.00    142300\n",
      "   macro avg       1.00      1.00      1.00    142300\n",
      "weighted avg       1.00      1.00      1.00    142300\n",
      "\n"
     ]
    }
   ],
   "source": [
    "from sklearn.metrics import classification_report\n",
    "split = np.sum(y_train==1)\n",
    "selection = make_uniform(y_train, split)\n",
    "y_train_uniform = y_train[selection]\n",
    "X_train_uniform = X_train[selection]\n",
    "print(classification_report(y_train_uniform, y_train_uniform))\n"
   ]
  },
  {
   "cell_type": "code",
   "execution_count": 86,
   "metadata": {},
   "outputs": [
    {
     "name": "stdout",
     "output_type": "stream",
     "text": [
      "(25126, 3)\n",
      "              precision    recall  f1-score   support\n",
      "\n",
      "           0       1.00      1.00      1.00     12563\n",
      "           1       1.00      1.00      1.00     12563\n",
      "\n",
      "    accuracy                           1.00     25126\n",
      "   macro avg       1.00      1.00      1.00     25126\n",
      "weighted avg       1.00      1.00      1.00     25126\n",
      "\n"
     ]
    }
   ],
   "source": [
    "split = np.sum(y_dev==1)\n",
    "selection = make_uniform(y_dev, split)\n",
    "y_dev_uniform = y_dev[selection]\n",
    "X_dev_uniform = X_dev[selection]\n",
    "print(X_dev_uniform.shape)\n",
    "print(classification_report(y_dev_uniform, y_dev_uniform))"
   ]
  },
  {
   "cell_type": "code",
   "execution_count": 87,
   "metadata": {},
   "outputs": [
    {
     "name": "stdout",
     "output_type": "stream",
     "text": [
      "11\n",
      "0.996120871398454\n",
      "0.9960996577250657\n"
     ]
    }
   ],
   "source": [
    "nn = MLPClassifier(hidden_layer_sizes=(32, 32), max_iter=500, alpha=1.0, early_stopping=True,  learning_rate='adaptive')\n",
    "nn.fit(X_train_uniform, y_train_uniform)\n",
    "print(nn._no_improvement_count)\n",
    "print(nn.score(X_train_uniform, y_train_uniform))\n",
    "print(nn.score(X_dev_uniform, y_dev_uniform))\n"
   ]
  },
  {
   "cell_type": "code",
   "execution_count": 54,
   "metadata": {},
   "outputs": [
    {
     "data": {
      "text/plain": [
       "array([1])"
      ]
     },
     "execution_count": 54,
     "metadata": {},
     "output_type": "execute_result"
    }
   ],
   "source": [
    "nn.classes_"
   ]
  },
  {
   "cell_type": "code",
   "execution_count": 90,
   "metadata": {},
   "outputs": [
    {
     "name": "stdout",
     "output_type": "stream",
     "text": [
      "0.9953423381462506\n",
      "[[9288    0    0    0]\n",
      " [   0    0    0    0]\n",
      " [   0    0    0    0]\n",
      " [   0    0    0    0]]\n",
      "              precision    recall  f1-score   support\n",
      "\n",
      "           0       1.00      0.99      1.00     12182\n",
      "           1       0.99      1.00      0.99      9288\n",
      "\n",
      "    accuracy                           1.00     21470\n",
      "   macro avg       0.99      1.00      1.00     21470\n",
      "weighted avg       1.00      1.00      1.00     21470\n",
      "\n"
     ]
    }
   ],
   "source": [
    "from sklearn.metrics import confusion_matrix\n",
    "y_true = y_test\n",
    "X_true = X_test\n",
    "y_pred = nn.predict(X_true)\n",
    "print(nn.score(X_true, y_true))\n",
    "print(confusion_matrix(y_true, y_pred, labels=[1, 2, 3, 4]))\n",
    "print(classification_report(y_true, y_pred))"
   ]
  },
  {
   "cell_type": "code",
   "execution_count": 57,
   "metadata": {},
   "outputs": [
    {
     "name": "stdout",
     "output_type": "stream",
     "text": [
      "0.5068548387096774\n",
      "0.4183425797503467\n"
     ]
    }
   ],
   "source": [
    "from sklearn.naive_bayes import CategoricalNB, GaussianNB, BernoulliNB, MultinomialNB\n",
    "\n",
    "nb_model = CategoricalNB(alpha=5.0)\n",
    "nb_model.fit(X_train_uniform, y_train_uniform)\n",
    "# nb_model.fit(X_train, y_train)\n",
    "\n",
    "print(nb_model.score(X_train_uniform, y_train_uniform))\n",
    "print(nb_model.score(X_dev_uniform, y_dev_uniform))"
   ]
  },
  {
   "cell_type": "code",
   "execution_count": 58,
   "metadata": {},
   "outputs": [
    {
     "name": "stdout",
     "output_type": "stream",
     "text": [
      "[[16526  4721  1306   887]\n",
      " [ 9906  6111  2505  1862]\n",
      " [ 2322  1790  1773  1810]\n",
      " [  256   203   326   657]]\n",
      "              precision    recall  f1-score   support\n",
      "\n",
      "           1       0.57      0.71      0.63     23440\n",
      "           2       0.48      0.30      0.37     20384\n",
      "           3       0.30      0.23      0.26      7695\n",
      "           4       0.13      0.46      0.20      1442\n",
      "\n",
      "    accuracy                           0.47     52961\n",
      "   macro avg       0.37      0.42      0.36     52961\n",
      "weighted avg       0.48      0.47      0.46     52961\n",
      "\n"
     ]
    }
   ],
   "source": [
    "y_true = y_dev\n",
    "X_true = X_dev\n",
    "y_pred = nb_model.predict(X_true)\n",
    "print(confusion_matrix(y_true, y_pred, labels=[1, 2, 3, 4]))\n",
    "print(classification_report(y_true, y_pred))"
   ]
  },
  {
   "cell_type": "code",
   "execution_count": 60,
   "metadata": {},
   "outputs": [
    {
     "name": "stdout",
     "output_type": "stream",
     "text": [
      "[[22042  6354  1718  1215]\n",
      " [13142  7972  3484  2403]\n",
      " [ 3051  2496  2340  2448]\n",
      " [  402   280   439   828]]\n",
      "              precision    recall  f1-score   support\n",
      "\n",
      "           1       0.57      0.70      0.63     31329\n",
      "           2       0.47      0.30      0.36     27001\n",
      "           3       0.29      0.23      0.26     10335\n",
      "           4       0.12      0.42      0.19      1949\n",
      "\n",
      "    accuracy                           0.47     70614\n",
      "   macro avg       0.36      0.41      0.36     70614\n",
      "weighted avg       0.48      0.47      0.46     70614\n",
      "\n"
     ]
    }
   ],
   "source": [
    "y_true = y_test\n",
    "X_true = X_test\n",
    "y_pred = nb_model.predict(X_true)\n",
    "print(confusion_matrix(y_true, y_pred, labels=[1, 2, 3, 4]))\n",
    "print(classification_report(y_true, y_pred))"
   ]
  },
  {
   "cell_type": "code",
   "execution_count": null,
   "metadata": {},
   "outputs": [],
   "source": []
  }
 ],
 "metadata": {
  "kernelspec": {
   "display_name": "Python 3",
   "language": "python",
   "name": "python3"
  },
  "language_info": {
   "codemirror_mode": {
    "name": "ipython",
    "version": 3
   },
   "file_extension": ".py",
   "mimetype": "text/x-python",
   "name": "python",
   "nbconvert_exporter": "python",
   "pygments_lexer": "ipython3",
   "version": "3.7.9"
  }
 },
 "nbformat": 4,
 "nbformat_minor": 2
}
